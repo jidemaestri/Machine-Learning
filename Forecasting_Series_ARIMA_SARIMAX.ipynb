{
  "nbformat": 4,
  "nbformat_minor": 0,
  "metadata": {
    "colab": {
      "provenance": [],
      "authorship_tag": "ABX9TyMZNXqQoSEbsgErBAOu/9DD"
    },
    "kernelspec": {
      "name": "python3",
      "display_name": "Python 3"
    },
    "language_info": {
      "name": "python"
    }
  },
  "cells": [
    {
      "cell_type": "markdown",
      "source": [
        "# ARIMA, SARIMA & SARIMAX"
      ],
      "metadata": {
        "id": "ZGjNTK7yjUhj"
      }
    },
    {
      "cell_type": "markdown",
      "source": [
        "ARIMA es un modelo básico para el análisis de series de tiempo, mientras que SARIMA y SARIMAX extienden ARIMA para incluir componentes estacionales y variables exógenas, respectivamente. Estos modelos asumen que la serie de tiempo es estacionaria o puede convertirse en estacionaria mediante diferenciación. Si la serie de tiempo es altamente no estacionaria, puede ser necesario realizar transformaciones adicionales o considerar otros modelos. Pueden ser sensibles a los valores atípicos o anomalías en los datos."
      ],
      "metadata": {
        "id": "-OItdq_-jpUH"
      }
    },
    {
      "cell_type": "code",
      "execution_count": null,
      "metadata": {
        "id": "LXmWEH2eip3R"
      },
      "outputs": [],
      "source": [
        "pip install pmdarima"
      ]
    },
    {
      "cell_type": "markdown",
      "source": [
        "## ARIMA"
      ],
      "metadata": {
        "id": "zeLjia7kj4tn"
      }
    },
    {
      "cell_type": "markdown",
      "source": [
        "El modelo ARIMA combina tres componentes: el componente autoregresivo (AR), que tiene en cuenta las observaciones pasadas; el componente de media móvil (MA), que tiene en cuenta el error residual pasado; y el componente de integración (I), que se refiere a la diferenciación de la serie de tiempo para hacerla estacionaria."
      ],
      "metadata": {
        "id": "a0NpCWL6j6CO"
      }
    },
    {
      "cell_type": "markdown",
      "source": [
        "\n",
        "Hay tres factores que se deben optimizar:\n",
        "\n",
        "* Orden de diferenciación (d): Es la cantidad de veces que se deben aplicar\n",
        "diferencias a la serie de tiempo para hacerla estacionaria. La diferenciación elimina las tendencias en los datos.\n",
        "\n",
        "* Orden del componente autoregresivo (p): Representa cuántas observaciones pasadas se deben considerar para predecir el valor actual de la serie de tiempo. Cuanto mayor sea el valor de \"p\", más observaciones pasadas se tendrán en cuenta.\n",
        "\n",
        "* Orden del componente de media móvil (q): Indica cuántos errores pasados se deben considerar para predecir el valor actual de la serie de tiempo. Un valor mayor de \"q\" implica tener en cuenta más errores pasados.\n"
      ],
      "metadata": {
        "id": "UdO8S7bFp9OH"
      }
    },
    {
      "cell_type": "code",
      "source": [
        "#import libraries\n",
        "import pandas as pd\n",
        "import numpy as np"
      ],
      "metadata": {
        "id": "kFLMPXysq1iq"
      },
      "execution_count": 4,
      "outputs": []
    },
    {
      "cell_type": "code",
      "source": [
        "df = pd.read_csv(\"Churrasco.csv\",\n",
        "                   index_col = \"Week\",\n",
        "                   parse_dates = True)\n",
        "df.head()"
      ],
      "metadata": {
        "colab": {
          "base_uri": "https://localhost:8080/",
          "height": 238
        },
        "id": "zuDVEh48q3Y8",
        "outputId": "310a557d-442e-458c-eb6a-ffdaeae2f8a9"
      },
      "execution_count": 9,
      "outputs": [
        {
          "output_type": "execute_result",
          "data": {
            "text/plain": [
              "            Churrasco  Easter  Carnaval  Republic\n",
              "Week                                             \n",
              "2016-01-31         42       0         0         0\n",
              "2016-02-07         45       0         1         0\n",
              "2016-02-14         40       0         0         0\n",
              "2016-02-21         36       0         0         0\n",
              "2016-02-28         39       0         0         0"
            ],
            "text/html": [
              "\n",
              "  <div id=\"df-999609ec-1271-45bd-84f7-f439e639833e\">\n",
              "    <div class=\"colab-df-container\">\n",
              "      <div>\n",
              "<style scoped>\n",
              "    .dataframe tbody tr th:only-of-type {\n",
              "        vertical-align: middle;\n",
              "    }\n",
              "\n",
              "    .dataframe tbody tr th {\n",
              "        vertical-align: top;\n",
              "    }\n",
              "\n",
              "    .dataframe thead th {\n",
              "        text-align: right;\n",
              "    }\n",
              "</style>\n",
              "<table border=\"1\" class=\"dataframe\">\n",
              "  <thead>\n",
              "    <tr style=\"text-align: right;\">\n",
              "      <th></th>\n",
              "      <th>Churrasco</th>\n",
              "      <th>Easter</th>\n",
              "      <th>Carnaval</th>\n",
              "      <th>Republic</th>\n",
              "    </tr>\n",
              "    <tr>\n",
              "      <th>Week</th>\n",
              "      <th></th>\n",
              "      <th></th>\n",
              "      <th></th>\n",
              "      <th></th>\n",
              "    </tr>\n",
              "  </thead>\n",
              "  <tbody>\n",
              "    <tr>\n",
              "      <th>2016-01-31</th>\n",
              "      <td>42</td>\n",
              "      <td>0</td>\n",
              "      <td>0</td>\n",
              "      <td>0</td>\n",
              "    </tr>\n",
              "    <tr>\n",
              "      <th>2016-02-07</th>\n",
              "      <td>45</td>\n",
              "      <td>0</td>\n",
              "      <td>1</td>\n",
              "      <td>0</td>\n",
              "    </tr>\n",
              "    <tr>\n",
              "      <th>2016-02-14</th>\n",
              "      <td>40</td>\n",
              "      <td>0</td>\n",
              "      <td>0</td>\n",
              "      <td>0</td>\n",
              "    </tr>\n",
              "    <tr>\n",
              "      <th>2016-02-21</th>\n",
              "      <td>36</td>\n",
              "      <td>0</td>\n",
              "      <td>0</td>\n",
              "      <td>0</td>\n",
              "    </tr>\n",
              "    <tr>\n",
              "      <th>2016-02-28</th>\n",
              "      <td>39</td>\n",
              "      <td>0</td>\n",
              "      <td>0</td>\n",
              "      <td>0</td>\n",
              "    </tr>\n",
              "  </tbody>\n",
              "</table>\n",
              "</div>\n",
              "      <button class=\"colab-df-convert\" onclick=\"convertToInteractive('df-999609ec-1271-45bd-84f7-f439e639833e')\"\n",
              "              title=\"Convert this dataframe to an interactive table.\"\n",
              "              style=\"display:none;\">\n",
              "        \n",
              "  <svg xmlns=\"http://www.w3.org/2000/svg\" height=\"24px\"viewBox=\"0 0 24 24\"\n",
              "       width=\"24px\">\n",
              "    <path d=\"M0 0h24v24H0V0z\" fill=\"none\"/>\n",
              "    <path d=\"M18.56 5.44l.94 2.06.94-2.06 2.06-.94-2.06-.94-.94-2.06-.94 2.06-2.06.94zm-11 1L8.5 8.5l.94-2.06 2.06-.94-2.06-.94L8.5 2.5l-.94 2.06-2.06.94zm10 10l.94 2.06.94-2.06 2.06-.94-2.06-.94-.94-2.06-.94 2.06-2.06.94z\"/><path d=\"M17.41 7.96l-1.37-1.37c-.4-.4-.92-.59-1.43-.59-.52 0-1.04.2-1.43.59L10.3 9.45l-7.72 7.72c-.78.78-.78 2.05 0 2.83L4 21.41c.39.39.9.59 1.41.59.51 0 1.02-.2 1.41-.59l7.78-7.78 2.81-2.81c.8-.78.8-2.07 0-2.86zM5.41 20L4 18.59l7.72-7.72 1.47 1.35L5.41 20z\"/>\n",
              "  </svg>\n",
              "      </button>\n",
              "      \n",
              "  <style>\n",
              "    .colab-df-container {\n",
              "      display:flex;\n",
              "      flex-wrap:wrap;\n",
              "      gap: 12px;\n",
              "    }\n",
              "\n",
              "    .colab-df-convert {\n",
              "      background-color: #E8F0FE;\n",
              "      border: none;\n",
              "      border-radius: 50%;\n",
              "      cursor: pointer;\n",
              "      display: none;\n",
              "      fill: #1967D2;\n",
              "      height: 32px;\n",
              "      padding: 0 0 0 0;\n",
              "      width: 32px;\n",
              "    }\n",
              "\n",
              "    .colab-df-convert:hover {\n",
              "      background-color: #E2EBFA;\n",
              "      box-shadow: 0px 1px 2px rgba(60, 64, 67, 0.3), 0px 1px 3px 1px rgba(60, 64, 67, 0.15);\n",
              "      fill: #174EA6;\n",
              "    }\n",
              "\n",
              "    [theme=dark] .colab-df-convert {\n",
              "      background-color: #3B4455;\n",
              "      fill: #D2E3FC;\n",
              "    }\n",
              "\n",
              "    [theme=dark] .colab-df-convert:hover {\n",
              "      background-color: #434B5C;\n",
              "      box-shadow: 0px 1px 3px 1px rgba(0, 0, 0, 0.15);\n",
              "      filter: drop-shadow(0px 1px 2px rgba(0, 0, 0, 0.3));\n",
              "      fill: #FFFFFF;\n",
              "    }\n",
              "  </style>\n",
              "\n",
              "      <script>\n",
              "        const buttonEl =\n",
              "          document.querySelector('#df-999609ec-1271-45bd-84f7-f439e639833e button.colab-df-convert');\n",
              "        buttonEl.style.display =\n",
              "          google.colab.kernel.accessAllowed ? 'block' : 'none';\n",
              "\n",
              "        async function convertToInteractive(key) {\n",
              "          const element = document.querySelector('#df-999609ec-1271-45bd-84f7-f439e639833e');\n",
              "          const dataTable =\n",
              "            await google.colab.kernel.invokeFunction('convertToInteractive',\n",
              "                                                     [key], {});\n",
              "          if (!dataTable) return;\n",
              "\n",
              "          const docLinkHtml = 'Like what you see? Visit the ' +\n",
              "            '<a target=\"_blank\" href=https://colab.research.google.com/notebooks/data_table.ipynb>data table notebook</a>'\n",
              "            + ' to learn more about interactive tables.';\n",
              "          element.innerHTML = '';\n",
              "          dataTable['output_type'] = 'display_data';\n",
              "          await google.colab.output.renderOutput(dataTable, element);\n",
              "          const docLink = document.createElement('div');\n",
              "          docLink.innerHTML = docLinkHtml;\n",
              "          element.appendChild(docLink);\n",
              "        }\n",
              "      </script>\n",
              "    </div>\n",
              "  </div>\n",
              "  "
            ]
          },
          "metadata": {},
          "execution_count": 9
        }
      ]
    },
    {
      "cell_type": "code",
      "source": [
        "df = df.asfreq(\"W\")\n",
        "df.index"
      ],
      "metadata": {
        "colab": {
          "base_uri": "https://localhost:8080/"
        },
        "id": "vDGi9fJurG4w",
        "outputId": "594a963b-64fc-4636-f5bb-eeb7b2e80bbe"
      },
      "execution_count": 10,
      "outputs": [
        {
          "output_type": "execute_result",
          "data": {
            "text/plain": [
              "DatetimeIndex(['2016-01-31', '2016-02-07', '2016-02-14', '2016-02-21',\n",
              "               '2016-02-28', '2016-03-06', '2016-03-13', '2016-03-20',\n",
              "               '2016-03-27', '2016-04-03',\n",
              "               ...\n",
              "               '2020-11-22', '2020-11-29', '2020-12-06', '2020-12-13',\n",
              "               '2020-12-20', '2020-12-27', '2021-01-03', '2021-01-10',\n",
              "               '2021-01-17', '2021-01-24'],\n",
              "              dtype='datetime64[ns]', name='Week', length=261, freq='W-SUN')"
            ]
          },
          "metadata": {},
          "execution_count": 10
        }
      ]
    },
    {
      "cell_type": "code",
      "source": [
        "df.Churrasco.plot(figsize = (9,6))"
      ],
      "metadata": {
        "colab": {
          "base_uri": "https://localhost:8080/",
          "height": 559
        },
        "id": "mJxhguq7rMFG",
        "outputId": "d9b9bffe-6e87-41e1-d0c3-af3430592a7e"
      },
      "execution_count": 11,
      "outputs": [
        {
          "output_type": "execute_result",
          "data": {
            "text/plain": [
              "<Axes: xlabel='Week'>"
            ]
          },
          "metadata": {},
          "execution_count": 11
        },
        {
          "output_type": "display_data",
          "data": {
            "text/plain": [
              "<Figure size 900x600 with 1 Axes>"
            ],
            "image/png": "[encoded data removed]"
          },
          "metadata": {}
        }
      ]
    },
    {
      "cell_type": "markdown",
      "source": [
        "## SARIMA\n",
        "\n",
        "\n",
        "\n"
      ],
      "metadata": {
        "id": "xRI_TOZB5OU_"
      }
    },
    {
      "cell_type": "markdown",
      "source": [
        "Extensión del modelo ARIMA que incorpora componentes estacionales.\n",
        "Adecuado para modelar y predecir series de tiempo con patrones estacionales.\n",
        "Además de los órdenes p, d y q, se especifican los órdenes P, D y Q para los componentes estacionales AR, I y MA, respectivamente, junto con la frecuencia de la estacionalidad."
      ],
      "metadata": {
        "id": "bgCPX08A5YhP"
      }
    },
    {
      "cell_type": "markdown",
      "source": [
        " Stationarity\n",
        "\n",
        " La eliminación del componente estacional en una serie de tiempo tiene la ventaja de simplificar el análisis, permitir una mejor identificación de las tendencias a largo plazo y patrones irregulares, y mejorar la precisión de los pronósticos al eliminar los efectos estacionales que pueden distorsionar la dinámica subyacente de los datos."
      ],
      "metadata": {
        "id": "kSXpEd7j5Tdf"
      }
    },
    {
      "cell_type": "markdown",
      "source": [
        "## SARIMAX"
      ],
      "metadata": {
        "id": "txgQIZXj5czX"
      }
    },
    {
      "cell_type": "markdown",
      "source": [
        "* Versión ampliada de SARIMA que permite incorporar variables exógenas en el modelo.\n",
        "* Las variables exógenas pueden ser factores externos que afectan la serie de tiempo objetivo."
      ],
      "metadata": {
        "id": "cXVqBtec5dME"
      }
    },
    {
      "cell_type": "markdown",
      "source": [
        "## Data Preparation"
      ],
      "metadata": {
        "id": "i3F6FzP-sTEt"
      }
    },
    {
      "cell_type": "markdown",
      "source": [
        "#### Train and Test"
      ],
      "metadata": {
        "id": "Zb5Nz8QBsU0y"
      }
    },
    {
      "cell_type": "code",
      "source": [
        "test_weeks = 12\n",
        "training_set = df.iloc[:-test_weeks, :]\n",
        "test_set = df.iloc[-test_weeks:, :]\n",
        "test_set.head()"
      ],
      "metadata": {
        "colab": {
          "base_uri": "https://localhost:8080/",
          "height": 238
        },
        "id": "LkxkxE8FjnEd",
        "outputId": "500c3d70-f830-4fed-8a5a-69b2e4b3cbf9"
      },
      "execution_count": 12,
      "outputs": [
        {
          "output_type": "execute_result",
          "data": {
            "text/plain": [
              "            Churrasco  Easter  Carnaval  Republic\n",
              "Week                                             \n",
              "2020-11-08         42       0         0         0\n",
              "2020-11-15         41       0         0         1\n",
              "2020-11-22         47       0         0         0\n",
              "2020-11-29         46       0         0         0\n",
              "2020-12-06         45       0         0         0"
            ],
            "text/html": [
              "\n",
              "  <div id=\"df-5a8966e1-c4c8-49ee-905e-20f62a2d96ca\">\n",
              "    <div class=\"colab-df-container\">\n",
              "      <div>\n",
              "<style scoped>\n",
              "    .dataframe tbody tr th:only-of-type {\n",
              "        vertical-align: middle;\n",
              "    }\n",
              "\n",
              "    .dataframe tbody tr th {\n",
              "        vertical-align: top;\n",
              "    }\n",
              "\n",
              "    .dataframe thead th {\n",
              "        text-align: right;\n",
              "    }\n",
              "</style>\n",
              "<table border=\"1\" class=\"dataframe\">\n",
              "  <thead>\n",
              "    <tr style=\"text-align: right;\">\n",
              "      <th></th>\n",
              "      <th>Churrasco</th>\n",
              "      <th>Easter</th>\n",
              "      <th>Carnaval</th>\n",
              "      <th>Republic</th>\n",
              "    </tr>\n",
              "    <tr>\n",
              "      <th>Week</th>\n",
              "      <th></th>\n",
              "      <th></th>\n",
              "      <th></th>\n",
              "      <th></th>\n",
              "    </tr>\n",
              "  </thead>\n",
              "  <tbody>\n",
              "    <tr>\n",
              "      <th>2020-11-08</th>\n",
              "      <td>42</td>\n",
              "      <td>0</td>\n",
              "      <td>0</td>\n",
              "      <td>0</td>\n",
              "    </tr>\n",
              "    <tr>\n",
              "      <th>2020-11-15</th>\n",
              "      <td>41</td>\n",
              "      <td>0</td>\n",
              "      <td>0</td>\n",
              "      <td>1</td>\n",
              "    </tr>\n",
              "    <tr>\n",
              "      <th>2020-11-22</th>\n",
              "      <td>47</td>\n",
              "      <td>0</td>\n",
              "      <td>0</td>\n",
              "      <td>0</td>\n",
              "    </tr>\n",
              "    <tr>\n",
              "      <th>2020-11-29</th>\n",
              "      <td>46</td>\n",
              "      <td>0</td>\n",
              "      <td>0</td>\n",
              "      <td>0</td>\n",
              "    </tr>\n",
              "    <tr>\n",
              "      <th>2020-12-06</th>\n",
              "      <td>45</td>\n",
              "      <td>0</td>\n",
              "      <td>0</td>\n",
              "      <td>0</td>\n",
              "    </tr>\n",
              "  </tbody>\n",
              "</table>\n",
              "</div>\n",
              "      <button class=\"colab-df-convert\" onclick=\"convertToInteractive('df-5a8966e1-c4c8-49ee-905e-20f62a2d96ca')\"\n",
              "              title=\"Convert this dataframe to an interactive table.\"\n",
              "              style=\"display:none;\">\n",
              "        \n",
              "  <svg xmlns=\"http://www.w3.org/2000/svg\" height=\"24px\"viewBox=\"0 0 24 24\"\n",
              "       width=\"24px\">\n",
              "    <path d=\"M0 0h24v24H0V0z\" fill=\"none\"/>\n",
              "    <path d=\"M18.56 5.44l.94 2.06.94-2.06 2.06-.94-2.06-.94-.94-2.06-.94 2.06-2.06.94zm-11 1L8.5 8.5l.94-2.06 2.06-.94-2.06-.94L8.5 2.5l-.94 2.06-2.06.94zm10 10l.94 2.06.94-2.06 2.06-.94-2.06-.94-.94-2.06-.94 2.06-2.06.94z\"/><path d=\"M17.41 7.96l-1.37-1.37c-.4-.4-.92-.59-1.43-.59-.52 0-1.04.2-1.43.59L10.3 9.45l-7.72 7.72c-.78.78-.78 2.05 0 2.83L4 21.41c.39.39.9.59 1.41.59.51 0 1.02-.2 1.41-.59l7.78-7.78 2.81-2.81c.8-.78.8-2.07 0-2.86zM5.41 20L4 18.59l7.72-7.72 1.47 1.35L5.41 20z\"/>\n",
              "  </svg>\n",
              "      </button>\n",
              "      \n",
              "  <style>\n",
              "    .colab-df-container {\n",
              "      display:flex;\n",
              "      flex-wrap:wrap;\n",
              "      gap: 12px;\n",
              "    }\n",
              "\n",
              "    .colab-df-convert {\n",
              "      background-color: #E8F0FE;\n",
              "      border: none;\n",
              "      border-radius: 50%;\n",
              "      cursor: pointer;\n",
              "      display: none;\n",
              "      fill: #1967D2;\n",
              "      height: 32px;\n",
              "      padding: 0 0 0 0;\n",
              "      width: 32px;\n",
              "    }\n",
              "\n",
              "    .colab-df-convert:hover {\n",
              "      background-color: #E2EBFA;\n",
              "      box-shadow: 0px 1px 2px rgba(60, 64, 67, 0.3), 0px 1px 3px 1px rgba(60, 64, 67, 0.15);\n",
              "      fill: #174EA6;\n",
              "    }\n",
              "\n",
              "    [theme=dark] .colab-df-convert {\n",
              "      background-color: #3B4455;\n",
              "      fill: #D2E3FC;\n",
              "    }\n",
              "\n",
              "    [theme=dark] .colab-df-convert:hover {\n",
              "      background-color: #434B5C;\n",
              "      box-shadow: 0px 1px 3px 1px rgba(0, 0, 0, 0.15);\n",
              "      filter: drop-shadow(0px 1px 2px rgba(0, 0, 0, 0.3));\n",
              "      fill: #FFFFFF;\n",
              "    }\n",
              "  </style>\n",
              "\n",
              "      <script>\n",
              "        const buttonEl =\n",
              "          document.querySelector('#df-5a8966e1-c4c8-49ee-905e-20f62a2d96ca button.colab-df-convert');\n",
              "        buttonEl.style.display =\n",
              "          google.colab.kernel.accessAllowed ? 'block' : 'none';\n",
              "\n",
              "        async function convertToInteractive(key) {\n",
              "          const element = document.querySelector('#df-5a8966e1-c4c8-49ee-905e-20f62a2d96ca');\n",
              "          const dataTable =\n",
              "            await google.colab.kernel.invokeFunction('convertToInteractive',\n",
              "                                                     [key], {});\n",
              "          if (!dataTable) return;\n",
              "\n",
              "          const docLinkHtml = 'Like what you see? Visit the ' +\n",
              "            '<a target=\"_blank\" href=https://colab.research.google.com/notebooks/data_table.ipynb>data table notebook</a>'\n",
              "            + ' to learn more about interactive tables.';\n",
              "          element.innerHTML = '';\n",
              "          dataTable['output_type'] = 'display_data';\n",
              "          await google.colab.output.renderOutput(dataTable, element);\n",
              "          const docLink = document.createElement('div');\n",
              "          docLink.innerHTML = docLinkHtml;\n",
              "          element.appendChild(docLink);\n",
              "        }\n",
              "      </script>\n",
              "    </div>\n",
              "  </div>\n",
              "  "
            ]
          },
          "metadata": {},
          "execution_count": 12
        }
      ]
    },
    {
      "cell_type": "code",
      "source": [
        "train_exog = training_set.iloc[:, 1:]\n",
        "test_exog = test_set.iloc[:, 1:]"
      ],
      "metadata": {
        "id": "ppeu5H9IqugX"
      },
      "execution_count": 13,
      "outputs": []
    },
    {
      "cell_type": "code",
      "source": [
        "train_exog.head()"
      ],
      "metadata": {
        "colab": {
          "base_uri": "https://localhost:8080/",
          "height": 238
        },
        "id": "7748HC9-tJ-3",
        "outputId": "f5cb84f0-e9a8-47e2-f474-c2e7daf0e067"
      },
      "execution_count": 14,
      "outputs": [
        {
          "output_type": "execute_result",
          "data": {
            "text/plain": [
              "            Easter  Carnaval  Republic\n",
              "Week                                  \n",
              "2016-01-31       0         0         0\n",
              "2016-02-07       0         1         0\n",
              "2016-02-14       0         0         0\n",
              "2016-02-21       0         0         0\n",
              "2016-02-28       0         0         0"
            ],
            "text/html": [
              "\n",
              "  <div id=\"df-cd7e23b0-b71c-4151-932e-3554e3e5f2d6\">\n",
              "    <div class=\"colab-df-container\">\n",
              "      <div>\n",
              "<style scoped>\n",
              "    .dataframe tbody tr th:only-of-type {\n",
              "        vertical-align: middle;\n",
              "    }\n",
              "\n",
              "    .dataframe tbody tr th {\n",
              "        vertical-align: top;\n",
              "    }\n",
              "\n",
              "    .dataframe thead th {\n",
              "        text-align: right;\n",
              "    }\n",
              "</style>\n",
              "<table border=\"1\" class=\"dataframe\">\n",
              "  <thead>\n",
              "    <tr style=\"text-align: right;\">\n",
              "      <th></th>\n",
              "      <th>Easter</th>\n",
              "      <th>Carnaval</th>\n",
              "      <th>Republic</th>\n",
              "    </tr>\n",
              "    <tr>\n",
              "      <th>Week</th>\n",
              "      <th></th>\n",
              "      <th></th>\n",
              "      <th></th>\n",
              "    </tr>\n",
              "  </thead>\n",
              "  <tbody>\n",
              "    <tr>\n",
              "      <th>2016-01-31</th>\n",
              "      <td>0</td>\n",
              "      <td>0</td>\n",
              "      <td>0</td>\n",
              "    </tr>\n",
              "    <tr>\n",
              "      <th>2016-02-07</th>\n",
              "      <td>0</td>\n",
              "      <td>1</td>\n",
              "      <td>0</td>\n",
              "    </tr>\n",
              "    <tr>\n",
              "      <th>2016-02-14</th>\n",
              "      <td>0</td>\n",
              "      <td>0</td>\n",
              "      <td>0</td>\n",
              "    </tr>\n",
              "    <tr>\n",
              "      <th>2016-02-21</th>\n",
              "      <td>0</td>\n",
              "      <td>0</td>\n",
              "      <td>0</td>\n",
              "    </tr>\n",
              "    <tr>\n",
              "      <th>2016-02-28</th>\n",
              "      <td>0</td>\n",
              "      <td>0</td>\n",
              "      <td>0</td>\n",
              "    </tr>\n",
              "  </tbody>\n",
              "</table>\n",
              "</div>\n",
              "      <button class=\"colab-df-convert\" onclick=\"convertToInteractive('df-cd7e23b0-b71c-4151-932e-3554e3e5f2d6')\"\n",
              "              title=\"Convert this dataframe to an interactive table.\"\n",
              "              style=\"display:none;\">\n",
              "        \n",
              "  <svg xmlns=\"http://www.w3.org/2000/svg\" height=\"24px\"viewBox=\"0 0 24 24\"\n",
              "       width=\"24px\">\n",
              "    <path d=\"M0 0h24v24H0V0z\" fill=\"none\"/>\n",
              "    <path d=\"M18.56 5.44l.94 2.06.94-2.06 2.06-.94-2.06-.94-.94-2.06-.94 2.06-2.06.94zm-11 1L8.5 8.5l.94-2.06 2.06-.94-2.06-.94L8.5 2.5l-.94 2.06-2.06.94zm10 10l.94 2.06.94-2.06 2.06-.94-2.06-.94-.94-2.06-.94 2.06-2.06.94z\"/><path d=\"M17.41 7.96l-1.37-1.37c-.4-.4-.92-.59-1.43-.59-.52 0-1.04.2-1.43.59L10.3 9.45l-7.72 7.72c-.78.78-.78 2.05 0 2.83L4 21.41c.39.39.9.59 1.41.59.51 0 1.02-.2 1.41-.59l7.78-7.78 2.81-2.81c.8-.78.8-2.07 0-2.86zM5.41 20L4 18.59l7.72-7.72 1.47 1.35L5.41 20z\"/>\n",
              "  </svg>\n",
              "      </button>\n",
              "      \n",
              "  <style>\n",
              "    .colab-df-container {\n",
              "      display:flex;\n",
              "      flex-wrap:wrap;\n",
              "      gap: 12px;\n",
              "    }\n",
              "\n",
              "    .colab-df-convert {\n",
              "      background-color: #E8F0FE;\n",
              "      border: none;\n",
              "      border-radius: 50%;\n",
              "      cursor: pointer;\n",
              "      display: none;\n",
              "      fill: #1967D2;\n",
              "      height: 32px;\n",
              "      padding: 0 0 0 0;\n",
              "      width: 32px;\n",
              "    }\n",
              "\n",
              "    .colab-df-convert:hover {\n",
              "      background-color: #E2EBFA;\n",
              "      box-shadow: 0px 1px 2px rgba(60, 64, 67, 0.3), 0px 1px 3px 1px rgba(60, 64, 67, 0.15);\n",
              "      fill: #174EA6;\n",
              "    }\n",
              "\n",
              "    [theme=dark] .colab-df-convert {\n",
              "      background-color: #3B4455;\n",
              "      fill: #D2E3FC;\n",
              "    }\n",
              "\n",
              "    [theme=dark] .colab-df-convert:hover {\n",
              "      background-color: #434B5C;\n",
              "      box-shadow: 0px 1px 3px 1px rgba(0, 0, 0, 0.15);\n",
              "      filter: drop-shadow(0px 1px 2px rgba(0, 0, 0, 0.3));\n",
              "      fill: #FFFFFF;\n",
              "    }\n",
              "  </style>\n",
              "\n",
              "      <script>\n",
              "        const buttonEl =\n",
              "          document.querySelector('#df-cd7e23b0-b71c-4151-932e-3554e3e5f2d6 button.colab-df-convert');\n",
              "        buttonEl.style.display =\n",
              "          google.colab.kernel.accessAllowed ? 'block' : 'none';\n",
              "\n",
              "        async function convertToInteractive(key) {\n",
              "          const element = document.querySelector('#df-cd7e23b0-b71c-4151-932e-3554e3e5f2d6');\n",
              "          const dataTable =\n",
              "            await google.colab.kernel.invokeFunction('convertToInteractive',\n",
              "                                                     [key], {});\n",
              "          if (!dataTable) return;\n",
              "\n",
              "          const docLinkHtml = 'Like what you see? Visit the ' +\n",
              "            '<a target=\"_blank\" href=https://colab.research.google.com/notebooks/data_table.ipynb>data table notebook</a>'\n",
              "            + ' to learn more about interactive tables.';\n",
              "          element.innerHTML = '';\n",
              "          dataTable['output_type'] = 'display_data';\n",
              "          await google.colab.output.renderOutput(dataTable, element);\n",
              "          const docLink = document.createElement('div');\n",
              "          docLink.innerHTML = docLinkHtml;\n",
              "          element.appendChild(docLink);\n",
              "        }\n",
              "      </script>\n",
              "    </div>\n",
              "  </div>\n",
              "  "
            ]
          },
          "metadata": {},
          "execution_count": 14
        }
      ]
    },
    {
      "cell_type": "code",
      "source": [],
      "metadata": {
        "id": "r_uwrO6BudEF"
      },
      "execution_count": null,
      "outputs": []
    },
    {
      "cell_type": "markdown",
      "source": [],
      "metadata": {
        "id": "SFUDf18ZuanY"
      }
    },
    {
      "cell_type": "markdown",
      "source": [],
      "metadata": {
        "id": "l5X_az5u48z3"
      }
    },
    {
      "cell_type": "code",
      "source": [
        "from pmdarima import auto_arima\n",
        "model = auto_arima(y = training_set.Churrasco,\n",
        "                   X = train_exog,\n",
        "                   m = 52,\n",
        "                   stepwise = True)           #validation param, busca el mejor modelo de ARIMA\n",
        "model.summary()"
      ],
      "metadata": {
        "colab": {
          "base_uri": "https://localhost:8080/",
          "height": 540
        },
        "id": "E9LY0o75tLi8",
        "outputId": "21297545-8098-4947-a5e5-2c3112eaa902"
      },
      "execution_count": 15,
      "outputs": [
        {
          "output_type": "execute_result",
          "data": {
            "text/plain": [
              "<class 'statsmodels.iolib.summary.Summary'>\n",
              "\"\"\"\n",
              "                                      SARIMAX Results                                      \n",
              "===========================================================================================\n",
              "Dep. Variable:                                   y   No. Observations:                  249\n",
              "Model:             SARIMAX(0, 0, 2)x(2, 0, [], 52)   Log Likelihood                -762.709\n",
              "Date:                             Mon, 03 Jul 2023   AIC                           1543.417\n",
              "Time:                                     22:02:43   BIC                           1575.074\n",
              "Sample:                                 01-31-2016   HQIC                          1556.160\n",
              "                                      - 11-01-2020                                         \n",
              "Covariance Type:                               opg                                         \n",
              "==============================================================================\n",
              "                 coef    std err          z      P>|z|      [0.025      0.975]\n",
              "------------------------------------------------------------------------------\n",
              "intercept     12.2786      1.818      6.755      0.000       8.716      15.841\n",
              "Easter         2.3324      2.242      1.040      0.298      -2.061       6.726\n",
              "Carnaval       5.5811      2.825      1.976      0.048       0.045      11.118\n",
              "Republic      19.1431      2.785      6.874      0.000      13.685      24.601\n",
              "ma.L1          0.3459      0.059      5.872      0.000       0.230       0.461\n",
              "ma.L2          0.2707      0.058      4.647      0.000       0.157       0.385\n",
              "ar.S.L52       0.5197      0.062      8.319      0.000       0.397       0.642\n",
              "ar.S.L104      0.2102      0.068      3.101      0.002       0.077       0.343\n",
              "sigma2        23.3559      1.851     12.618      0.000      19.728      26.984\n",
              "===================================================================================\n",
              "Ljung-Box (L1) (Q):                   0.00   Jarque-Bera (JB):                59.65\n",
              "Prob(Q):                              0.98   Prob(JB):                         0.00\n",
              "Heteroskedasticity (H):               1.14   Skew:                             0.74\n",
              "Prob(H) (two-sided):                  0.55   Kurtosis:                         4.89\n",
              "===================================================================================\n",
              "\n",
              "Warnings:\n",
              "[1] Covariance matrix calculated using the outer product of gradients (complex-step).\n",
              "\"\"\""
            ],
            "text/html": [
              "<table class=\"simpletable\">\n",
              "<caption>SARIMAX Results</caption>\n",
              "<tr>\n",
              "  <th>Dep. Variable:</th>                  <td>y</td>                <th>  No. Observations:  </th>    <td>249</td>  \n",
              "</tr>\n",
              "<tr>\n",
              "  <th>Model:</th>           <td>SARIMAX(0, 0, 2)x(2, 0, [], 52)</td> <th>  Log Likelihood     </th> <td>-762.709</td>\n",
              "</tr>\n",
              "<tr>\n",
              "  <th>Date:</th>                   <td>Mon, 03 Jul 2023</td>         <th>  AIC                </th> <td>1543.417</td>\n",
              "</tr>\n",
              "<tr>\n",
              "  <th>Time:</th>                       <td>22:02:43</td>             <th>  BIC                </th> <td>1575.074</td>\n",
              "</tr>\n",
              "<tr>\n",
              "  <th>Sample:</th>                    <td>01-31-2016</td>            <th>  HQIC               </th> <td>1556.160</td>\n",
              "</tr>\n",
              "<tr>\n",
              "  <th></th>                          <td>- 11-01-2020</td>           <th>                     </th>     <td> </td>   \n",
              "</tr>\n",
              "<tr>\n",
              "  <th>Covariance Type:</th>               <td>opg</td>               <th>                     </th>     <td> </td>   \n",
              "</tr>\n",
              "</table>\n",
              "<table class=\"simpletable\">\n",
              "<tr>\n",
              "      <td></td>         <th>coef</th>     <th>std err</th>      <th>z</th>      <th>P>|z|</th>  <th>[0.025</th>    <th>0.975]</th>  \n",
              "</tr>\n",
              "<tr>\n",
              "  <th>intercept</th> <td>   12.2786</td> <td>    1.818</td> <td>    6.755</td> <td> 0.000</td> <td>    8.716</td> <td>   15.841</td>\n",
              "</tr>\n",
              "<tr>\n",
              "  <th>Easter</th>    <td>    2.3324</td> <td>    2.242</td> <td>    1.040</td> <td> 0.298</td> <td>   -2.061</td> <td>    6.726</td>\n",
              "</tr>\n",
              "<tr>\n",
              "  <th>Carnaval</th>  <td>    5.5811</td> <td>    2.825</td> <td>    1.976</td> <td> 0.048</td> <td>    0.045</td> <td>   11.118</td>\n",
              "</tr>\n",
              "<tr>\n",
              "  <th>Republic</th>  <td>   19.1431</td> <td>    2.785</td> <td>    6.874</td> <td> 0.000</td> <td>   13.685</td> <td>   24.601</td>\n",
              "</tr>\n",
              "<tr>\n",
              "  <th>ma.L1</th>     <td>    0.3459</td> <td>    0.059</td> <td>    5.872</td> <td> 0.000</td> <td>    0.230</td> <td>    0.461</td>\n",
              "</tr>\n",
              "<tr>\n",
              "  <th>ma.L2</th>     <td>    0.2707</td> <td>    0.058</td> <td>    4.647</td> <td> 0.000</td> <td>    0.157</td> <td>    0.385</td>\n",
              "</tr>\n",
              "<tr>\n",
              "  <th>ar.S.L52</th>  <td>    0.5197</td> <td>    0.062</td> <td>    8.319</td> <td> 0.000</td> <td>    0.397</td> <td>    0.642</td>\n",
              "</tr>\n",
              "<tr>\n",
              "  <th>ar.S.L104</th> <td>    0.2102</td> <td>    0.068</td> <td>    3.101</td> <td> 0.002</td> <td>    0.077</td> <td>    0.343</td>\n",
              "</tr>\n",
              "<tr>\n",
              "  <th>sigma2</th>    <td>   23.3559</td> <td>    1.851</td> <td>   12.618</td> <td> 0.000</td> <td>   19.728</td> <td>   26.984</td>\n",
              "</tr>\n",
              "</table>\n",
              "<table class=\"simpletable\">\n",
              "<tr>\n",
              "  <th>Ljung-Box (L1) (Q):</th>     <td>0.00</td> <th>  Jarque-Bera (JB):  </th> <td>59.65</td>\n",
              "</tr>\n",
              "<tr>\n",
              "  <th>Prob(Q):</th>                <td>0.98</td> <th>  Prob(JB):          </th> <td>0.00</td> \n",
              "</tr>\n",
              "<tr>\n",
              "  <th>Heteroskedasticity (H):</th> <td>1.14</td> <th>  Skew:              </th> <td>0.74</td> \n",
              "</tr>\n",
              "<tr>\n",
              "  <th>Prob(H) (two-sided):</th>    <td>0.55</td> <th>  Kurtosis:          </th> <td>4.89</td> \n",
              "</tr>\n",
              "</table><br/><br/>Warnings:<br/>[1] Covariance matrix calculated using the outer product of gradients (complex-step)."
            ]
          },
          "metadata": {},
          "execution_count": 15
        }
      ]
    },
    {
      "cell_type": "code",
      "source": [
        "predictions = pd.Series(model.predict(n_periods= test_weeks,\n",
        "                        X = test_exog)).rename(\"SARIMAX\")\n",
        "predictions.index = test_set.index\n",
        "predictions.head(10)"
      ],
      "metadata": {
        "colab": {
          "base_uri": "https://localhost:8080/"
        },
        "id": "dT91wLh0vkwz",
        "outputId": "c02a7bac-b8dd-45bf-df33-9cc003d9c393"
      },
      "execution_count": 17,
      "outputs": [
        {
          "output_type": "execute_result",
          "data": {
            "text/plain": [
              "Week\n",
              "2020-11-08    38.373076\n",
              "2020-11-15    65.847238\n",
              "2020-11-22    48.563909\n",
              "2020-11-29    54.502500\n",
              "2020-12-06    53.065839\n",
              "2020-12-13    53.153570\n",
              "2020-12-20    68.382374\n",
              "2020-12-27    66.910974\n",
              "2021-01-03    43.355227\n",
              "2021-01-10    44.914358\n",
              "Freq: W-SUN, Name: SARIMAX, dtype: float64"
            ]
          },
          "metadata": {},
          "execution_count": 17
        }
      ]
    },
    {
      "cell_type": "code",
      "source": [
        "\n",
        "training_set.Churrasco['2020-01-01':].plot(legend = True,\n",
        "                                           figsize = (9,6))\n",
        "test_set.Churrasco.plot(legend = True)\n",
        "predictions.plot(legend = True)"
      ],
      "metadata": {
        "colab": {
          "base_uri": "https://localhost:8080/",
          "height": 575
        },
        "id": "pv3ngc7p2Fl0",
        "outputId": "a9c84195-573c-481a-9d56-2ab0b3e91007"
      },
      "execution_count": 18,
      "outputs": [
        {
          "output_type": "execute_result",
          "data": {
            "text/plain": [
              "<Axes: xlabel='Week'>"
            ]
          },
          "metadata": {},
          "execution_count": 18
        },
        {
          "output_type": "display_data",
          "data": {
            "text/plain": [
              "<Figure size 900x600 with 1 Axes>"
            ],
            "image/png": "[encoded data removed]"
          },
          "metadata": {}
        }
      ]
    },
    {
      "cell_type": "markdown",
      "source": [
        "## Model Evaluation"
      ],
      "metadata": {
        "id": "56_zdgOg2oNc"
      }
    },
    {
      "cell_type": "markdown",
      "source": [
        "#### MAPE"
      ],
      "metadata": {
        "id": "ya_094wU2qMd"
      }
    },
    {
      "cell_type": "markdown",
      "source": [
        "El MAPE se calcula como el promedio del valor absoluto de los errores porcentuales individuales entre las predicciones del modelo y los valores reales. Para cada punto de datos, se calcula el error porcentual como la diferencia absoluta entre la predicción y el valor real, dividido por el valor real, y luego se promedian todos los errores porcentuales.\n",
        "\n",
        "El MAPE se expresa como un porcentaje y proporciona una medida relativa de la precisión del modelo. Cuanto menor sea el valor del MAPE, mejor será la precisión del modelo. Un MAPE del 0% indica una predicción perfecta, mientras que un MAPE del 100% indica que las predicciones del modelo tienen un error promedio igual al 100% de los valores reales.\n",
        "\n"
      ],
      "metadata": {
        "id": "dxg1IktC2rRb"
      }
    },
    {
      "cell_type": "code",
      "source": [
        "def MAPE(y_true, y_pred):\n",
        "  y_true, y_pred = np.array(y_true), np.array(y_pred)\n",
        "  print(\"Error porcentual promedio entre real y predict: \",np.mean(np.abs((y_true - y_pred) / y_true)) * 100, \"%\")\n",
        "MAPE(test_set.Churrasco, predictions)"
      ],
      "metadata": {
        "colab": {
          "base_uri": "https://localhost:8080/"
        },
        "id": "IrVl4ZmN2OMr",
        "outputId": "f6fe09b5-623c-4a93-9ceb-de79a0afbb31"
      },
      "execution_count": 22,
      "outputs": [
        {
          "output_type": "stream",
          "name": "stdout",
          "text": [
            "Error porcentual promedio entre real y predict:  13.405754173402363 %\n"
          ]
        }
      ]
    },
    {
      "cell_type": "markdown",
      "source": [
        "## Anexo"
      ],
      "metadata": {
        "id": "pAf4HDcd5xPk"
      }
    },
    {
      "cell_type": "markdown",
      "source": [
        "### Casos prácticos"
      ],
      "metadata": {
        "id": "E9AcZSnd5yQw"
      }
    },
    {
      "cell_type": "markdown",
      "source": [
        "* Pronóstico de ventas: Estos modelos son utilizados para predecir las ventas futuras de productos o servicios. Pueden capturar patrones estacionales, tendencias y efectos de variables exógenas relacionadas con las ventas.\n",
        "\n",
        "* Demanda de inventario: Ayudan a pronosticar la demanda futura de productos para optimizar los niveles de inventario y evitar problemas de exceso o falta de stock.\n",
        "\n",
        "* Finanzas y economía: Se aplican en pronósticos de series financieras, como precios de acciones, tipos de cambio, índices económicos, entre otros. También se utilizan en análisis macroeconómicos y para modelar variables económicas clave.\n",
        "\n",
        "* Planificación de la producción: Estos modelos pueden ser útiles para predecir la demanda de productos y planificar la producción en sectores como la manufactura, la industria alimentaria y la logística."
      ],
      "metadata": {
        "id": "etTHIi84550f"
      }
    }
  ]
}