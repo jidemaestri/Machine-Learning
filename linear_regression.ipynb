{
  "nbformat": 4,
  "nbformat_minor": 0,
  "metadata": {
    "colab": {
      "name": "linear_regression.ipynb",
      "provenance": [],
      "authorship_tag": "ABX9TyOTpfrxyZu4ogZ6VghdyWQz",
      "include_colab_link": true
    },
    "kernelspec": {
      "name": "python3",
      "display_name": "Python 3"
    },
    "language_info": {
      "name": "python"
    }
  },
  "cells": [
    {
      "cell_type": "markdown",
      "metadata": {
        "id": "view-in-github",
        "colab_type": "text"
      },
      "source": [
        "<a href=\"https://colab.research.google.com/github/jidemaestri/Machine-Learning/blob/master/linear_regression.ipynb\" target=\"_parent\"><img src=\"https://colab.research.google.com/assets/colab-badge.svg\" alt=\"Open In Colab\"/></a>"
      ]
    },
    {
      "cell_type": "code",
      "metadata": {
        "colab": {
          "base_uri": "https://localhost:8080/"
        },
        "id": "Z3xHlIuFO5pn",
        "outputId": "d722d61c-b4e6-43ae-8b37-81ce3c002f90"
      },
      "source": [
        "import pandas\n",
        "!pip install statsmodels\n",
        "!wget https://raw.githubusercontent.com/MicrosoftDocs/mslearn-introduction-to-machine-learning/main/graphing.py\n",
        "!wget https://raw.githubusercontent.com/MicrosoftDocs/mslearn-introduction-to-machine-learning/main/Data/doggy-illness.csv\n",
        "# Exercise extracted from: https://docs.microsoft.com/en-us/learn/modules/understand-regression-machine-learning/3-exercise-train-linear-regression\n"
      ],
      "execution_count": 1,
      "outputs": [
        {
          "output_type": "stream",
          "name": "stdout",
          "text": [
            "Requirement already satisfied: statsmodels in /usr/local/lib/python3.7/dist-packages (0.10.2)\n",
            "Requirement already satisfied: patsy>=0.4.0 in /usr/local/lib/python3.7/dist-packages (from statsmodels) (0.5.2)\n",
            "Requirement already satisfied: pandas>=0.19 in /usr/local/lib/python3.7/dist-packages (from statsmodels) (1.1.5)\n",
            "Requirement already satisfied: numpy>=1.11 in /usr/local/lib/python3.7/dist-packages (from statsmodels) (1.19.5)\n",
            "Requirement already satisfied: scipy>=0.18 in /usr/local/lib/python3.7/dist-packages (from statsmodels) (1.4.1)\n",
            "Requirement already satisfied: pytz>=2017.2 in /usr/local/lib/python3.7/dist-packages (from pandas>=0.19->statsmodels) (2018.9)\n",
            "Requirement already satisfied: python-dateutil>=2.7.3 in /usr/local/lib/python3.7/dist-packages (from pandas>=0.19->statsmodels) (2.8.2)\n",
            "Requirement already satisfied: six in /usr/local/lib/python3.7/dist-packages (from patsy>=0.4.0->statsmodels) (1.15.0)\n",
            "--2021-11-26 12:32:49--  https://raw.githubusercontent.com/MicrosoftDocs/mslearn-introduction-to-machine-learning/main/graphing.py\n",
            "Resolving raw.githubusercontent.com (raw.githubusercontent.com)... 185.199.108.133, 185.199.109.133, 185.199.110.133, ...\n",
            "Connecting to raw.githubusercontent.com (raw.githubusercontent.com)|185.199.108.133|:443... connected.\n",
            "HTTP request sent, awaiting response... 200 OK\n",
            "Length: 21511 (21K) [text/plain]\n",
            "Saving to: ‘graphing.py’\n",
            "\n",
            "graphing.py         100%[===================>]  21.01K  --.-KB/s    in 0.001s  \n",
            "\n",
            "2021-11-26 12:32:49 (22.7 MB/s) - ‘graphing.py’ saved [21511/21511]\n",
            "\n",
            "--2021-11-26 12:32:49--  https://raw.githubusercontent.com/MicrosoftDocs/mslearn-introduction-to-machine-learning/main/Data/doggy-illness.csv\n",
            "Resolving raw.githubusercontent.com (raw.githubusercontent.com)... 185.199.108.133, 185.199.109.133, 185.199.110.133, ...\n",
            "Connecting to raw.githubusercontent.com (raw.githubusercontent.com)|185.199.108.133|:443... connected.\n",
            "HTTP request sent, awaiting response... 200 OK\n",
            "Length: 3293 (3.2K) [text/plain]\n",
            "Saving to: ‘doggy-illness.csv’\n",
            "\n",
            "doggy-illness.csv   100%[===================>]   3.22K  --.-KB/s    in 0s      \n",
            "\n",
            "2021-11-26 12:32:49 (37.9 MB/s) - ‘doggy-illness.csv’ saved [3293/3293]\n",
            "\n"
          ]
        }
      ]
    },
    {
      "cell_type": "code",
      "metadata": {
        "colab": {
          "base_uri": "https://localhost:8080/",
          "height": 226
        },
        "id": "Ukpo_iGtO6wz",
        "outputId": "4b2443bb-8ae0-4ac8-ad59-9bc97102c23b"
      },
      "source": [
        "\n",
        "dataset = pandas.read_csv(\"doggy-illness.csv\", delimiter=\"\\t\")\n",
        "dataset.reset_index()\n",
        "dataset.head()\n"
      ],
      "execution_count": 22,
      "outputs": [
        {
          "output_type": "execute_result",
          "data": {
            "text/html": [
              "<div>\n",
              "<style scoped>\n",
              "    .dataframe tbody tr th:only-of-type {\n",
              "        vertical-align: middle;\n",
              "    }\n",
              "\n",
              "    .dataframe tbody tr th {\n",
              "        vertical-align: top;\n",
              "    }\n",
              "\n",
              "    .dataframe thead th {\n",
              "        text-align: right;\n",
              "    }\n",
              "</style>\n",
              "<table border=\"1\" class=\"dataframe\">\n",
              "  <thead>\n",
              "    <tr style=\"text-align: right;\">\n",
              "      <th></th>\n",
              "      <th>male</th>\n",
              "      <th>attended_training</th>\n",
              "      <th>age</th>\n",
              "      <th>body_fat_percentage</th>\n",
              "      <th>core_temperature</th>\n",
              "      <th>ate_at_tonys_steakhouse</th>\n",
              "      <th>needed_intensive_care</th>\n",
              "      <th>protein_content_of_last_meal</th>\n",
              "    </tr>\n",
              "  </thead>\n",
              "  <tbody>\n",
              "    <tr>\n",
              "      <th>0</th>\n",
              "      <td>0</td>\n",
              "      <td>1</td>\n",
              "      <td>6.9</td>\n",
              "      <td>38</td>\n",
              "      <td>38.423169</td>\n",
              "      <td>0</td>\n",
              "      <td>0</td>\n",
              "      <td>7.66</td>\n",
              "    </tr>\n",
              "    <tr>\n",
              "      <th>1</th>\n",
              "      <td>0</td>\n",
              "      <td>1</td>\n",
              "      <td>5.4</td>\n",
              "      <td>32</td>\n",
              "      <td>39.015998</td>\n",
              "      <td>0</td>\n",
              "      <td>0</td>\n",
              "      <td>13.36</td>\n",
              "    </tr>\n",
              "    <tr>\n",
              "      <th>2</th>\n",
              "      <td>1</td>\n",
              "      <td>1</td>\n",
              "      <td>5.4</td>\n",
              "      <td>12</td>\n",
              "      <td>39.148341</td>\n",
              "      <td>0</td>\n",
              "      <td>0</td>\n",
              "      <td>12.90</td>\n",
              "    </tr>\n",
              "    <tr>\n",
              "      <th>3</th>\n",
              "      <td>1</td>\n",
              "      <td>0</td>\n",
              "      <td>4.8</td>\n",
              "      <td>23</td>\n",
              "      <td>39.060049</td>\n",
              "      <td>0</td>\n",
              "      <td>0</td>\n",
              "      <td>13.45</td>\n",
              "    </tr>\n",
              "    <tr>\n",
              "      <th>4</th>\n",
              "      <td>1</td>\n",
              "      <td>0</td>\n",
              "      <td>4.8</td>\n",
              "      <td>15</td>\n",
              "      <td>38.655439</td>\n",
              "      <td>0</td>\n",
              "      <td>0</td>\n",
              "      <td>10.53</td>\n",
              "    </tr>\n",
              "  </tbody>\n",
              "</table>\n",
              "</div>"
            ],
            "text/plain": [
              "   male  attended_training  ...  needed_intensive_care  protein_content_of_last_meal\n",
              "0     0                  1  ...                      0                          7.66\n",
              "1     0                  1  ...                      0                         13.36\n",
              "2     1                  1  ...                      0                         12.90\n",
              "3     1                  0  ...                      0                         13.45\n",
              "4     1                  0  ...                      0                         10.53\n",
              "\n",
              "[5 rows x 8 columns]"
            ]
          },
          "metadata": {},
          "execution_count": 22
        }
      ]
    },
    {
      "cell_type": "code",
      "metadata": {
        "colab": {
          "base_uri": "https://localhost:8080/"
        },
        "id": "KIlIXokcQ74F",
        "outputId": "859f89ae-a94c-4165-8601-26b19278c2ec"
      },
      "source": [
        "dataset.index"
      ],
      "execution_count": 21,
      "outputs": [
        {
          "output_type": "execute_result",
          "data": {
            "text/plain": [
              "RangeIndex(start=0, stop=98, step=1)"
            ]
          },
          "metadata": {},
          "execution_count": 21
        }
      ]
    },
    {
      "cell_type": "markdown",
      "metadata": {
        "id": "ELP6C5fQPM8O"
      },
      "source": [
        "Relación entre Features "
      ]
    },
    {
      "cell_type": "code",
      "metadata": {
        "colab": {
          "base_uri": "https://localhost:8080/",
          "height": 817
        },
        "id": "ElVAdBtEPBU0",
        "outputId": "92d53b62-a247-427d-c0f2-f03cfb363b4a"
      },
      "source": [
        "import graphing\n",
        "\n",
        "graphing.histogram(dataset, label_x='age', nbins=10, title=\"Feature\", show=True)\n",
        "graphing.histogram(dataset, label_x='core_temperature', nbins=10, title=\"Label\")\n",
        "\n",
        "#graphing.scatter_2D(dataset, label_x=\"age\", label_y=\"core_temperature\", title='core temperature as a function of age')\n"
      ],
      "execution_count": 7,
      "outputs": [
        {
          "output_type": "display_data",
          "data": {
            "text/html": [
              "<html>\n",
              "<head><meta charset=\"utf-8\" /></head>\n",
              "<body>\n",
              "    <div>\n",
              "            <script src=\"https://cdnjs.cloudflare.com/ajax/libs/mathjax/2.7.5/MathJax.js?config=TeX-AMS-MML_SVG\"></script><script type=\"text/javascript\">if (window.MathJax) {MathJax.Hub.Config({SVG: {font: \"STIX-Web\"}});}</script>\n",
              "                <script type=\"text/javascript\">window.PlotlyConfig = {MathJaxConfig: 'local'};</script>\n",
              "        <script src=\"https://cdn.plot.ly/plotly-latest.min.js\"></script>    \n",
              "            <div id=\"83cdb58b-5f0e-46ac-a121-e099f3e62318\" class=\"plotly-graph-div\" style=\"height:400px; width:100%;\"></div>\n",
              "            <script type=\"text/javascript\">\n",
              "                \n",
              "                    window.PLOTLYENV=window.PLOTLYENV || {};\n",
              "                    \n",
              "                if (document.getElementById(\"83cdb58b-5f0e-46ac-a121-e099f3e62318\")) {\n",
              "                    Plotly.newPlot(\n",
              "                        '83cdb58b-5f0e-46ac-a121-e099f3e62318',\n",
              "                        [{\"alignmentgroup\": \"True\", \"bingroup\": \"x\", \"hoverlabel\": {\"namelength\": 0}, \"hovertemplate\": \"age=%{x}<br>count=%{y}\", \"legendgroup\": \"\", \"marker\": {\"color\": \"#636efa\"}, \"name\": \"\", \"nbinsx\": 10, \"offsetgroup\": \"\", \"orientation\": \"v\", \"showlegend\": false, \"type\": \"histogram\", \"x\": [6.9, 5.4, 5.4, 4.8, 4.8, 7.8, 2.7, 5.7, 1.5, 1.8, 4.2, 4.5, 1.5, 5.1, 4.8, 5.1, 3.6, 4.2, 2.7, 8.7, 0.9, 6.3, 1.2, 2.7, 6.0, 6.0, 0.6, 3.9, 6.0, 5.7, 6.9, 5.1, 2.1, 3.6, 6.3, 2.4, 8.4, 7.5, 5.7, 5.7, 2.7, 4.2, 6.9, 3.0, 1.8, 2.4, 6.3, 0.6, 1.8, 4.8, 8.4, 8.1, 6.3, 8.7, 4.5, 4.5, 7.5, 1.2, 5.7, 0.6, 6.9, 8.1, 0.6, 1.2, 6.6, 8.1, 2.7, 3.9, 4.2, 6.9, 1.2, 3.9, 3.6, 0.3, 3.0, 8.7, 2.1, 6.6, 1.5, 5.1, 6.0, 2.1, 6.0, 4.2, 1.5, 1.8, 1.8, 6.9, 6.9, 4.5, 1.8, 8.4, 3.0, 4.5, 1.8, 6.6, 6.9, 6.0], \"xaxis\": \"x\", \"yaxis\": \"y\"}],\n",
              "                        {\"barmode\": \"relative\", \"legend\": {\"tracegroupgap\": 0}, \"template\": {\"data\": {\"bar\": [{\"error_x\": {\"color\": \"#2a3f5f\"}, \"error_y\": {\"color\": \"#2a3f5f\"}, \"marker\": {\"line\": {\"color\": \"white\", \"width\": 0.5}}, \"type\": \"bar\"}], \"barpolar\": [{\"marker\": {\"line\": {\"color\": \"white\", \"width\": 0.5}}, \"type\": \"barpolar\"}], \"box\": [{\"boxpoints\": \"outliers\", \"notched\": false, \"type\": \"box\"}], \"carpet\": [{\"aaxis\": {\"endlinecolor\": \"#2a3f5f\", \"gridcolor\": \"#C8D4E3\", \"linecolor\": \"#C8D4E3\", \"minorgridcolor\": \"#C8D4E3\", \"startlinecolor\": \"#2a3f5f\"}, \"baxis\": {\"endlinecolor\": \"#2a3f5f\", \"gridcolor\": \"#C8D4E3\", \"linecolor\": \"#C8D4E3\", \"minorgridcolor\": \"#C8D4E3\", \"startlinecolor\": \"#2a3f5f\"}, \"type\": \"carpet\"}], \"choropleth\": [{\"colorbar\": {\"outlinewidth\": 0, \"ticks\": \"\"}, \"type\": \"choropleth\"}], \"contour\": [{\"colorbar\": {\"outlinewidth\": 0, \"ticks\": \"\"}, \"colorscale\": [[0.0, \"#0d0887\"], [0.1111111111111111, \"#46039f\"], [0.2222222222222222, \"#7201a8\"], [0.3333333333333333, \"#9c179e\"], [0.4444444444444444, \"#bd3786\"], [0.5555555555555556, \"#d8576b\"], [0.6666666666666666, \"#ed7953\"], [0.7777777777777778, \"#fb9f3a\"], [0.8888888888888888, \"#fdca26\"], [1.0, \"#f0f921\"]], \"type\": \"contour\"}], \"contourcarpet\": [{\"colorbar\": {\"outlinewidth\": 0, \"ticks\": \"\"}, \"type\": \"contourcarpet\"}], \"heatmap\": [{\"colorbar\": {\"outlinewidth\": 0, \"ticks\": \"\"}, \"colorscale\": [[0.0, \"#0d0887\"], [0.1111111111111111, \"#46039f\"], [0.2222222222222222, \"#7201a8\"], [0.3333333333333333, \"#9c179e\"], [0.4444444444444444, \"#bd3786\"], [0.5555555555555556, \"#d8576b\"], [0.6666666666666666, \"#ed7953\"], [0.7777777777777778, \"#fb9f3a\"], [0.8888888888888888, \"#fdca26\"], [1.0, \"#f0f921\"]], \"type\": \"heatmap\"}], \"heatmapgl\": [{\"colorbar\": {\"outlinewidth\": 0, \"ticks\": \"\"}, \"colorscale\": [[0.0, \"#0d0887\"], [0.1111111111111111, \"#46039f\"], [0.2222222222222222, \"#7201a8\"], [0.3333333333333333, \"#9c179e\"], [0.4444444444444444, \"#bd3786\"], [0.5555555555555556, \"#d8576b\"], [0.6666666666666666, \"#ed7953\"], [0.7777777777777778, \"#fb9f3a\"], [0.8888888888888888, \"#fdca26\"], [1.0, \"#f0f921\"]], \"type\": \"heatmapgl\"}], \"histogram\": [{\"marker\": {\"colorbar\": {\"outlinewidth\": 0, \"ticks\": \"\"}, \"line\": {\"width\": 1}}, \"type\": \"histogram\"}], \"histogram2d\": [{\"colorbar\": {\"outlinewidth\": 0, \"ticks\": \"\"}, \"colorscale\": [[0.0, \"#0d0887\"], [0.1111111111111111, \"#46039f\"], [0.2222222222222222, \"#7201a8\"], [0.3333333333333333, \"#9c179e\"], [0.4444444444444444, \"#bd3786\"], [0.5555555555555556, \"#d8576b\"], [0.6666666666666666, \"#ed7953\"], [0.7777777777777778, \"#fb9f3a\"], [0.8888888888888888, \"#fdca26\"], [1.0, \"#f0f921\"]], \"type\": \"histogram2d\"}], \"histogram2dcontour\": [{\"colorbar\": {\"outlinewidth\": 0, \"ticks\": \"\"}, \"colorscale\": [[0.0, \"#0d0887\"], [0.1111111111111111, \"#46039f\"], [0.2222222222222222, \"#7201a8\"], [0.3333333333333333, \"#9c179e\"], [0.4444444444444444, \"#bd3786\"], [0.5555555555555556, \"#d8576b\"], [0.6666666666666666, \"#ed7953\"], [0.7777777777777778, \"#fb9f3a\"], [0.8888888888888888, \"#fdca26\"], [1.0, \"#f0f921\"]], \"type\": \"histogram2dcontour\"}], \"mesh3d\": [{\"colorbar\": {\"outlinewidth\": 0, \"ticks\": \"\"}, \"type\": \"mesh3d\"}], \"parcoords\": [{\"line\": {\"colorbar\": {\"outlinewidth\": 0, \"ticks\": \"\"}}, \"type\": \"parcoords\"}], \"pie\": [{\"automargin\": true, \"type\": \"pie\"}], \"scatter\": [{\"marker\": {\"colorbar\": {\"outlinewidth\": 0, \"ticks\": \"\"}, \"opacity\": 0.8}, \"type\": \"scatter\"}], \"scatter3d\": [{\"line\": {\"colorbar\": {\"outlinewidth\": 0, \"ticks\": \"\"}}, \"marker\": {\"colorbar\": {\"outlinewidth\": 0, \"ticks\": \"\"}, \"opacity\": 0.8}, \"type\": \"scatter3d\"}], \"scattercarpet\": [{\"marker\": {\"colorbar\": {\"outlinewidth\": 0, \"ticks\": \"\"}}, \"type\": \"scattercarpet\"}], \"scattergeo\": [{\"marker\": {\"colorbar\": {\"outlinewidth\": 0, \"ticks\": \"\"}}, \"type\": \"scattergeo\"}], \"scattergl\": [{\"marker\": {\"colorbar\": {\"outlinewidth\": 0, \"ticks\": \"\"}}, \"type\": \"scattergl\"}], \"scattermapbox\": [{\"marker\": {\"colorbar\": {\"outlinewidth\": 0, \"ticks\": \"\"}}, \"type\": \"scattermapbox\"}], \"scatterpolar\": [{\"marker\": {\"colorbar\": {\"outlinewidth\": 0, \"ticks\": \"\"}}, \"type\": \"scatterpolar\"}], \"scatterpolargl\": [{\"marker\": {\"colorbar\": {\"outlinewidth\": 0, \"ticks\": \"\"}}, \"type\": \"scatterpolargl\"}], \"scatterternary\": [{\"marker\": {\"colorbar\": {\"outlinewidth\": 0, \"ticks\": \"\"}}, \"type\": \"scatterternary\"}], \"surface\": [{\"colorbar\": {\"outlinewidth\": 0, \"ticks\": \"\"}, \"colorscale\": [[0.0, \"#0d0887\"], [0.1111111111111111, \"#46039f\"], [0.2222222222222222, \"#7201a8\"], [0.3333333333333333, \"#9c179e\"], [0.4444444444444444, \"#bd3786\"], [0.5555555555555556, \"#d8576b\"], [0.6666666666666666, \"#ed7953\"], [0.7777777777777778, \"#fb9f3a\"], [0.8888888888888888, \"#fdca26\"], [1.0, \"#f0f921\"]], \"type\": \"surface\"}], \"table\": [{\"cells\": {\"fill\": {\"color\": \"#EBF0F8\"}, \"line\": {\"color\": \"white\"}}, \"header\": {\"fill\": {\"color\": \"#C8D4E3\"}, \"line\": {\"color\": \"white\"}}, \"type\": \"table\"}]}, \"layout\": {\"annotationdefaults\": {\"arrowcolor\": \"#2a3f5f\", \"arrowhead\": 0, \"arrowwidth\": 1}, \"coloraxis\": {\"colorbar\": {\"outlinewidth\": 0, \"ticks\": \"\"}}, \"colorscale\": {\"diverging\": [[0, \"#8e0152\"], [0.1, \"#c51b7d\"], [0.2, \"#de77ae\"], [0.3, \"#f1b6da\"], [0.4, \"#fde0ef\"], [0.5, \"#f7f7f7\"], [0.6, \"#e6f5d0\"], [0.7, \"#b8e186\"], [0.8, \"#7fbc41\"], [0.9, \"#4d9221\"], [1, \"#276419\"]], \"sequential\": [[0.0, \"#0d0887\"], [0.1111111111111111, \"#46039f\"], [0.2222222222222222, \"#7201a8\"], [0.3333333333333333, \"#9c179e\"], [0.4444444444444444, \"#bd3786\"], [0.5555555555555556, \"#d8576b\"], [0.6666666666666666, \"#ed7953\"], [0.7777777777777778, \"#fb9f3a\"], [0.8888888888888888, \"#fdca26\"], [1.0, \"#f0f921\"]], \"sequentialminus\": [[0.0, \"#0d0887\"], [0.1111111111111111, \"#46039f\"], [0.2222222222222222, \"#7201a8\"], [0.3333333333333333, \"#9c179e\"], [0.4444444444444444, \"#bd3786\"], [0.5555555555555556, \"#d8576b\"], [0.6666666666666666, \"#ed7953\"], [0.7777777777777778, \"#fb9f3a\"], [0.8888888888888888, \"#fdca26\"], [1.0, \"#f0f921\"]]}, \"colorway\": [\"#636efa\", \"#EF553B\", \"#00cc96\", \"#ab63fa\", \"#FFA15A\", \"#19d3f3\", \"#FF6692\", \"#B6E880\", \"#FF97FF\", \"#FECB52\"], \"font\": {\"color\": \"#2a3f5f\"}, \"geo\": {\"bgcolor\": \"white\", \"lakecolor\": \"white\", \"landcolor\": \"white\", \"showlakes\": true, \"showland\": true, \"subunitcolor\": \"#C8D4E3\"}, \"height\": 400, \"hoverlabel\": {\"align\": \"left\"}, \"hovermode\": \"closest\", \"mapbox\": {\"style\": \"light\"}, \"margin\": {\"b\": 2, \"l\": 2, \"r\": 2, \"t\": 30}, \"paper_bgcolor\": \"white\", \"plot_bgcolor\": \"white\", \"polar\": {\"angularaxis\": {\"gridcolor\": \"#EBF0F8\", \"linecolor\": \"#EBF0F8\", \"ticks\": \"\"}, \"bgcolor\": \"white\", \"radialaxis\": {\"gridcolor\": \"#EBF0F8\", \"linecolor\": \"#EBF0F8\", \"ticks\": \"\"}}, \"scene\": {\"camera\": {\"eye\": {\"x\": 1.5, \"y\": 1.5, \"z\": 0.1}}, \"xaxis\": {\"backgroundcolor\": \"white\", \"gridcolor\": \"#DFE8F3\", \"gridwidth\": 2, \"linecolor\": \"#EBF0F8\", \"showbackground\": true, \"ticks\": \"\", \"zerolinecolor\": \"#EBF0F8\"}, \"yaxis\": {\"backgroundcolor\": \"white\", \"gridcolor\": \"#DFE8F3\", \"gridwidth\": 2, \"linecolor\": \"#EBF0F8\", \"showbackground\": true, \"ticks\": \"\", \"zerolinecolor\": \"#EBF0F8\"}, \"zaxis\": {\"backgroundcolor\": \"white\", \"gridcolor\": \"#DFE8F3\", \"gridwidth\": 2, \"linecolor\": \"#EBF0F8\", \"showbackground\": true, \"ticks\": \"\", \"zerolinecolor\": \"#EBF0F8\"}}, \"shapedefaults\": {\"line\": {\"color\": \"#2a3f5f\"}}, \"ternary\": {\"aaxis\": {\"gridcolor\": \"#DFE8F3\", \"linecolor\": \"#A2B1C6\", \"ticks\": \"\"}, \"baxis\": {\"gridcolor\": \"#DFE8F3\", \"linecolor\": \"#A2B1C6\", \"ticks\": \"\"}, \"bgcolor\": \"white\", \"caxis\": {\"gridcolor\": \"#DFE8F3\", \"linecolor\": \"#A2B1C6\", \"ticks\": \"\"}}, \"title\": {\"x\": 0.5}, \"xaxis\": {\"automargin\": true, \"gridcolor\": \"#EBF0F8\", \"linecolor\": \"#EBF0F8\", \"linewidth\": 2, \"showline\": true, \"ticks\": \"\", \"title\": {\"standoff\": 15}, \"zerolinecolor\": \"#EBF0F8\", \"zerolinewidth\": 2}, \"yaxis\": {\"automargin\": true, \"gridcolor\": \"#EBF0F8\", \"linecolor\": \"#EBF0F8\", \"linewidth\": 2, \"showline\": true, \"ticks\": \"\", \"title\": {\"standoff\": 15}, \"zerolinecolor\": \"#EBF0F8\", \"zerolinewidth\": 2}}}, \"title\": {\"text\": \"Feature\"}, \"xaxis\": {\"anchor\": \"y\", \"domain\": [0.0, 1.0], \"title\": {\"text\": \"age\"}}, \"yaxis\": {\"anchor\": \"x\", \"domain\": [0.0, 1.0], \"title\": {\"text\": \"count\"}}},\n",
              "                        {\"responsive\": true}\n",
              "                    ).then(function(){\n",
              "                            \n",
              "var gd = document.getElementById('83cdb58b-5f0e-46ac-a121-e099f3e62318');\n",
              "var x = new MutationObserver(function (mutations, observer) {{\n",
              "        var display = window.getComputedStyle(gd).display;\n",
              "        if (!display || display === 'none') {{\n",
              "            console.log([gd, 'removed!']);\n",
              "            Plotly.purge(gd);\n",
              "            observer.disconnect();\n",
              "        }}\n",
              "}});\n",
              "\n",
              "// Listen for the removal of the full notebook cells\n",
              "var notebookContainer = gd.closest('#notebook-container');\n",
              "if (notebookContainer) {{\n",
              "    x.observe(notebookContainer, {childList: true});\n",
              "}}\n",
              "\n",
              "// Listen for the clearing of the current output cell\n",
              "var outputEl = gd.closest('.output');\n",
              "if (outputEl) {{\n",
              "    x.observe(outputEl, {childList: true});\n",
              "}}\n",
              "\n",
              "                        })\n",
              "                };\n",
              "                \n",
              "            </script>\n",
              "        </div>\n",
              "</body>\n",
              "</html>"
            ]
          },
          "metadata": {}
        },
        {
          "output_type": "display_data",
          "data": {
            "text/html": [
              "<html>\n",
              "<head><meta charset=\"utf-8\" /></head>\n",
              "<body>\n",
              "    <div>\n",
              "            <script src=\"https://cdnjs.cloudflare.com/ajax/libs/mathjax/2.7.5/MathJax.js?config=TeX-AMS-MML_SVG\"></script><script type=\"text/javascript\">if (window.MathJax) {MathJax.Hub.Config({SVG: {font: \"STIX-Web\"}});}</script>\n",
              "                <script type=\"text/javascript\">window.PlotlyConfig = {MathJaxConfig: 'local'};</script>\n",
              "        <script src=\"https://cdn.plot.ly/plotly-latest.min.js\"></script>    \n",
              "            <div id=\"027aa825-85aa-44e0-ab64-9caf0e737668\" class=\"plotly-graph-div\" style=\"height:400px; width:100%;\"></div>\n",
              "            <script type=\"text/javascript\">\n",
              "                \n",
              "                    window.PLOTLYENV=window.PLOTLYENV || {};\n",
              "                    \n",
              "                if (document.getElementById(\"027aa825-85aa-44e0-ab64-9caf0e737668\")) {\n",
              "                    Plotly.newPlot(\n",
              "                        '027aa825-85aa-44e0-ab64-9caf0e737668',\n",
              "                        [{\"alignmentgroup\": \"True\", \"bingroup\": \"x\", \"hoverlabel\": {\"namelength\": 0}, \"hovertemplate\": \"core temperature=%{x}<br>count=%{y}\", \"legendgroup\": \"\", \"marker\": {\"color\": \"#636efa\"}, \"name\": \"\", \"nbinsx\": 10, \"offsetgroup\": \"\", \"orientation\": \"v\", \"showlegend\": false, \"type\": \"histogram\", \"x\": [38.42316895, 39.01599822, 39.14834088, 39.06004863, 38.65543905, 38.609218799999994, 39.47390806, 38.81521612, 37.77845286, 39.17685034, 39.52090819, 38.57896943, 38.28013391, 38.40158039, 38.65157641, 39.61720308, 37.72843549, 39.36694049, 37.98848685, 39.93405104, 37.60559023, 38.83468198, 37.39892664, 38.98633063, 39.72456882, 38.09695504, 37.59597881, 39.49731323, 38.50187636, 38.27036031, 38.69964224, 39.08411118, 38.29400364, 38.39872285, 39.29951536, 38.37598649, 38.46968433, 39.58561173, 38.12682317, 39.80156649, 37.92682179, 39.67264697, 38.21409556, 38.93217418, 37.80121676, 37.52097889, 39.34942824, 38.9163822, 38.72595498, 38.35421436, 40.17337876, 39.48214424, 39.9557292, 39.02529641, 39.70565695, 37.87210056, 38.92730588, 38.75694066, 38.98157028, 39.07020183, 39.31023381, 40.26487847, 39.19531025, 37.46606804, 38.61929591, 39.74308443, 37.9590829, 38.52387016, 39.58821189, 39.48780846, 37.32113362, 38.30311301, 39.32598796, 38.18373964, 37.78518905, 38.97361387, 37.97719515, 38.92654301, 37.98922316, 39.87010492, 38.51344083, 39.14710639, 38.61129304, 38.95232638, 37.46812464, 38.24131363, 38.7661591, 39.87233432, 38.87492299, 39.09337261, 39.00124171, 39.25963687, 38.6808734, 37.93994229, 38.79042609, 39.48996228, 38.57574159, 39.76644658], \"xaxis\": \"x\", \"yaxis\": \"y\"}],\n",
              "                        {\"barmode\": \"relative\", \"legend\": {\"tracegroupgap\": 0}, \"template\": {\"data\": {\"bar\": [{\"error_x\": {\"color\": \"#2a3f5f\"}, \"error_y\": {\"color\": \"#2a3f5f\"}, \"marker\": {\"line\": {\"color\": \"white\", \"width\": 0.5}}, \"type\": \"bar\"}], \"barpolar\": [{\"marker\": {\"line\": {\"color\": \"white\", \"width\": 0.5}}, \"type\": \"barpolar\"}], \"box\": [{\"boxpoints\": \"outliers\", \"notched\": false, \"type\": \"box\"}], \"carpet\": [{\"aaxis\": {\"endlinecolor\": \"#2a3f5f\", \"gridcolor\": \"#C8D4E3\", \"linecolor\": \"#C8D4E3\", \"minorgridcolor\": \"#C8D4E3\", \"startlinecolor\": \"#2a3f5f\"}, \"baxis\": {\"endlinecolor\": \"#2a3f5f\", \"gridcolor\": \"#C8D4E3\", \"linecolor\": \"#C8D4E3\", \"minorgridcolor\": \"#C8D4E3\", \"startlinecolor\": \"#2a3f5f\"}, \"type\": \"carpet\"}], \"choropleth\": [{\"colorbar\": {\"outlinewidth\": 0, \"ticks\": \"\"}, \"type\": \"choropleth\"}], \"contour\": [{\"colorbar\": {\"outlinewidth\": 0, \"ticks\": \"\"}, \"colorscale\": [[0.0, \"#0d0887\"], [0.1111111111111111, \"#46039f\"], [0.2222222222222222, \"#7201a8\"], [0.3333333333333333, \"#9c179e\"], [0.4444444444444444, \"#bd3786\"], [0.5555555555555556, \"#d8576b\"], [0.6666666666666666, \"#ed7953\"], [0.7777777777777778, \"#fb9f3a\"], [0.8888888888888888, \"#fdca26\"], [1.0, \"#f0f921\"]], \"type\": \"contour\"}], \"contourcarpet\": [{\"colorbar\": {\"outlinewidth\": 0, \"ticks\": \"\"}, \"type\": \"contourcarpet\"}], \"heatmap\": [{\"colorbar\": {\"outlinewidth\": 0, \"ticks\": \"\"}, \"colorscale\": [[0.0, \"#0d0887\"], [0.1111111111111111, \"#46039f\"], [0.2222222222222222, \"#7201a8\"], [0.3333333333333333, \"#9c179e\"], [0.4444444444444444, \"#bd3786\"], [0.5555555555555556, \"#d8576b\"], [0.6666666666666666, \"#ed7953\"], [0.7777777777777778, \"#fb9f3a\"], [0.8888888888888888, \"#fdca26\"], [1.0, \"#f0f921\"]], \"type\": \"heatmap\"}], \"heatmapgl\": [{\"colorbar\": {\"outlinewidth\": 0, \"ticks\": \"\"}, \"colorscale\": [[0.0, \"#0d0887\"], [0.1111111111111111, \"#46039f\"], [0.2222222222222222, \"#7201a8\"], [0.3333333333333333, \"#9c179e\"], [0.4444444444444444, \"#bd3786\"], [0.5555555555555556, \"#d8576b\"], [0.6666666666666666, \"#ed7953\"], [0.7777777777777778, \"#fb9f3a\"], [0.8888888888888888, \"#fdca26\"], [1.0, \"#f0f921\"]], \"type\": \"heatmapgl\"}], \"histogram\": [{\"marker\": {\"colorbar\": {\"outlinewidth\": 0, \"ticks\": \"\"}, \"line\": {\"width\": 1}}, \"type\": \"histogram\"}], \"histogram2d\": [{\"colorbar\": {\"outlinewidth\": 0, \"ticks\": \"\"}, \"colorscale\": [[0.0, \"#0d0887\"], [0.1111111111111111, \"#46039f\"], [0.2222222222222222, \"#7201a8\"], [0.3333333333333333, \"#9c179e\"], [0.4444444444444444, \"#bd3786\"], [0.5555555555555556, \"#d8576b\"], [0.6666666666666666, \"#ed7953\"], [0.7777777777777778, \"#fb9f3a\"], [0.8888888888888888, \"#fdca26\"], [1.0, \"#f0f921\"]], \"type\": \"histogram2d\"}], \"histogram2dcontour\": [{\"colorbar\": {\"outlinewidth\": 0, \"ticks\": \"\"}, \"colorscale\": [[0.0, \"#0d0887\"], [0.1111111111111111, \"#46039f\"], [0.2222222222222222, \"#7201a8\"], [0.3333333333333333, \"#9c179e\"], [0.4444444444444444, \"#bd3786\"], [0.5555555555555556, \"#d8576b\"], [0.6666666666666666, \"#ed7953\"], [0.7777777777777778, \"#fb9f3a\"], [0.8888888888888888, \"#fdca26\"], [1.0, \"#f0f921\"]], \"type\": \"histogram2dcontour\"}], \"mesh3d\": [{\"colorbar\": {\"outlinewidth\": 0, \"ticks\": \"\"}, \"type\": \"mesh3d\"}], \"parcoords\": [{\"line\": {\"colorbar\": {\"outlinewidth\": 0, \"ticks\": \"\"}}, \"type\": \"parcoords\"}], \"pie\": [{\"automargin\": true, \"type\": \"pie\"}], \"scatter\": [{\"marker\": {\"colorbar\": {\"outlinewidth\": 0, \"ticks\": \"\"}, \"opacity\": 0.8}, \"type\": \"scatter\"}], \"scatter3d\": [{\"line\": {\"colorbar\": {\"outlinewidth\": 0, \"ticks\": \"\"}}, \"marker\": {\"colorbar\": {\"outlinewidth\": 0, \"ticks\": \"\"}, \"opacity\": 0.8}, \"type\": \"scatter3d\"}], \"scattercarpet\": [{\"marker\": {\"colorbar\": {\"outlinewidth\": 0, \"ticks\": \"\"}}, \"type\": \"scattercarpet\"}], \"scattergeo\": [{\"marker\": {\"colorbar\": {\"outlinewidth\": 0, \"ticks\": \"\"}}, \"type\": \"scattergeo\"}], \"scattergl\": [{\"marker\": {\"colorbar\": {\"outlinewidth\": 0, \"ticks\": \"\"}}, \"type\": \"scattergl\"}], \"scattermapbox\": [{\"marker\": {\"colorbar\": {\"outlinewidth\": 0, \"ticks\": \"\"}}, \"type\": \"scattermapbox\"}], \"scatterpolar\": [{\"marker\": {\"colorbar\": {\"outlinewidth\": 0, \"ticks\": \"\"}}, \"type\": \"scatterpolar\"}], \"scatterpolargl\": [{\"marker\": {\"colorbar\": {\"outlinewidth\": 0, \"ticks\": \"\"}}, \"type\": \"scatterpolargl\"}], \"scatterternary\": [{\"marker\": {\"colorbar\": {\"outlinewidth\": 0, \"ticks\": \"\"}}, \"type\": \"scatterternary\"}], \"surface\": [{\"colorbar\": {\"outlinewidth\": 0, \"ticks\": \"\"}, \"colorscale\": [[0.0, \"#0d0887\"], [0.1111111111111111, \"#46039f\"], [0.2222222222222222, \"#7201a8\"], [0.3333333333333333, \"#9c179e\"], [0.4444444444444444, \"#bd3786\"], [0.5555555555555556, \"#d8576b\"], [0.6666666666666666, \"#ed7953\"], [0.7777777777777778, \"#fb9f3a\"], [0.8888888888888888, \"#fdca26\"], [1.0, \"#f0f921\"]], \"type\": \"surface\"}], \"table\": [{\"cells\": {\"fill\": {\"color\": \"#EBF0F8\"}, \"line\": {\"color\": \"white\"}}, \"header\": {\"fill\": {\"color\": \"#C8D4E3\"}, \"line\": {\"color\": \"white\"}}, \"type\": \"table\"}]}, \"layout\": {\"annotationdefaults\": {\"arrowcolor\": \"#2a3f5f\", \"arrowhead\": 0, \"arrowwidth\": 1}, \"coloraxis\": {\"colorbar\": {\"outlinewidth\": 0, \"ticks\": \"\"}}, \"colorscale\": {\"diverging\": [[0, \"#8e0152\"], [0.1, \"#c51b7d\"], [0.2, \"#de77ae\"], [0.3, \"#f1b6da\"], [0.4, \"#fde0ef\"], [0.5, \"#f7f7f7\"], [0.6, \"#e6f5d0\"], [0.7, \"#b8e186\"], [0.8, \"#7fbc41\"], [0.9, \"#4d9221\"], [1, \"#276419\"]], \"sequential\": [[0.0, \"#0d0887\"], [0.1111111111111111, \"#46039f\"], [0.2222222222222222, \"#7201a8\"], [0.3333333333333333, \"#9c179e\"], [0.4444444444444444, \"#bd3786\"], [0.5555555555555556, \"#d8576b\"], [0.6666666666666666, \"#ed7953\"], [0.7777777777777778, \"#fb9f3a\"], [0.8888888888888888, \"#fdca26\"], [1.0, \"#f0f921\"]], \"sequentialminus\": [[0.0, \"#0d0887\"], [0.1111111111111111, \"#46039f\"], [0.2222222222222222, \"#7201a8\"], [0.3333333333333333, \"#9c179e\"], [0.4444444444444444, \"#bd3786\"], [0.5555555555555556, \"#d8576b\"], [0.6666666666666666, \"#ed7953\"], [0.7777777777777778, \"#fb9f3a\"], [0.8888888888888888, \"#fdca26\"], [1.0, \"#f0f921\"]]}, \"colorway\": [\"#636efa\", \"#EF553B\", \"#00cc96\", \"#ab63fa\", \"#FFA15A\", \"#19d3f3\", \"#FF6692\", \"#B6E880\", \"#FF97FF\", \"#FECB52\"], \"font\": {\"color\": \"#2a3f5f\"}, \"geo\": {\"bgcolor\": \"white\", \"lakecolor\": \"white\", \"landcolor\": \"white\", \"showlakes\": true, \"showland\": true, \"subunitcolor\": \"#C8D4E3\"}, \"height\": 400, \"hoverlabel\": {\"align\": \"left\"}, \"hovermode\": \"closest\", \"mapbox\": {\"style\": \"light\"}, \"margin\": {\"b\": 2, \"l\": 2, \"r\": 2, \"t\": 30}, \"paper_bgcolor\": \"white\", \"plot_bgcolor\": \"white\", \"polar\": {\"angularaxis\": {\"gridcolor\": \"#EBF0F8\", \"linecolor\": \"#EBF0F8\", \"ticks\": \"\"}, \"bgcolor\": \"white\", \"radialaxis\": {\"gridcolor\": \"#EBF0F8\", \"linecolor\": \"#EBF0F8\", \"ticks\": \"\"}}, \"scene\": {\"camera\": {\"eye\": {\"x\": 1.5, \"y\": 1.5, \"z\": 0.1}}, \"xaxis\": {\"backgroundcolor\": \"white\", \"gridcolor\": \"#DFE8F3\", \"gridwidth\": 2, \"linecolor\": \"#EBF0F8\", \"showbackground\": true, \"ticks\": \"\", \"zerolinecolor\": \"#EBF0F8\"}, \"yaxis\": {\"backgroundcolor\": \"white\", \"gridcolor\": \"#DFE8F3\", \"gridwidth\": 2, \"linecolor\": \"#EBF0F8\", \"showbackground\": true, \"ticks\": \"\", \"zerolinecolor\": \"#EBF0F8\"}, \"zaxis\": {\"backgroundcolor\": \"white\", \"gridcolor\": \"#DFE8F3\", \"gridwidth\": 2, \"linecolor\": \"#EBF0F8\", \"showbackground\": true, \"ticks\": \"\", \"zerolinecolor\": \"#EBF0F8\"}}, \"shapedefaults\": {\"line\": {\"color\": \"#2a3f5f\"}}, \"ternary\": {\"aaxis\": {\"gridcolor\": \"#DFE8F3\", \"linecolor\": \"#A2B1C6\", \"ticks\": \"\"}, \"baxis\": {\"gridcolor\": \"#DFE8F3\", \"linecolor\": \"#A2B1C6\", \"ticks\": \"\"}, \"bgcolor\": \"white\", \"caxis\": {\"gridcolor\": \"#DFE8F3\", \"linecolor\": \"#A2B1C6\", \"ticks\": \"\"}}, \"title\": {\"x\": 0.5}, \"xaxis\": {\"automargin\": true, \"gridcolor\": \"#EBF0F8\", \"linecolor\": \"#EBF0F8\", \"linewidth\": 2, \"showline\": true, \"ticks\": \"\", \"title\": {\"standoff\": 15}, \"zerolinecolor\": \"#EBF0F8\", \"zerolinewidth\": 2}, \"yaxis\": {\"automargin\": true, \"gridcolor\": \"#EBF0F8\", \"linecolor\": \"#EBF0F8\", \"linewidth\": 2, \"showline\": true, \"ticks\": \"\", \"title\": {\"standoff\": 15}, \"zerolinecolor\": \"#EBF0F8\", \"zerolinewidth\": 2}}}, \"title\": {\"text\": \"Label\"}, \"xaxis\": {\"anchor\": \"y\", \"domain\": [0.0, 1.0], \"title\": {\"text\": \"core temperature\"}}, \"yaxis\": {\"anchor\": \"x\", \"domain\": [0.0, 1.0], \"title\": {\"text\": \"count\"}}},\n",
              "                        {\"responsive\": true}\n",
              "                    ).then(function(){\n",
              "                            \n",
              "var gd = document.getElementById('027aa825-85aa-44e0-ab64-9caf0e737668');\n",
              "var x = new MutationObserver(function (mutations, observer) {{\n",
              "        var display = window.getComputedStyle(gd).display;\n",
              "        if (!display || display === 'none') {{\n",
              "            console.log([gd, 'removed!']);\n",
              "            Plotly.purge(gd);\n",
              "            observer.disconnect();\n",
              "        }}\n",
              "}});\n",
              "\n",
              "// Listen for the removal of the full notebook cells\n",
              "var notebookContainer = gd.closest('#notebook-container');\n",
              "if (notebookContainer) {{\n",
              "    x.observe(notebookContainer, {childList: true});\n",
              "}}\n",
              "\n",
              "// Listen for the clearing of the current output cell\n",
              "var outputEl = gd.closest('.output');\n",
              "if (outputEl) {{\n",
              "    x.observe(outputEl, {childList: true});\n",
              "}}\n",
              "\n",
              "                        })\n",
              "                };\n",
              "                \n",
              "            </script>\n",
              "        </div>\n",
              "</body>\n",
              "</html>"
            ]
          },
          "metadata": {}
        }
      ]
    },
    {
      "cell_type": "markdown",
      "metadata": {
        "id": "454Sz_YCPzIy"
      },
      "source": [
        "Regression Model"
      ]
    },
    {
      "cell_type": "code",
      "metadata": {
        "colab": {
          "base_uri": "https://localhost:8080/"
        },
        "id": "m1BsEohiPRLs",
        "outputId": "9fc120a9-a45b-43b6-eb62-f925384c47aa"
      },
      "source": [
        "\n",
        "import statsmodels.formula.api as smf\n",
        "import graphing # custom graphing code. See our GitHub repo for details\n",
        "\n",
        "# First, we define our formula using a special syntax\n",
        "# This says that core temperature is explained by age\n",
        "formula = \"core_temperature ~ age\"\n",
        "\n",
        "# Perform linear regression. This method takes care of\n",
        "# the entire fitting procedure for us.\n",
        "model = smf.ols(formula = formula, data = dataset).fit()\n"
      ],
      "execution_count": 9,
      "outputs": [
        {
          "output_type": "stream",
          "name": "stderr",
          "text": [
            "/usr/local/lib/python3.7/dist-packages/statsmodels/tools/_testing.py:19: FutureWarning:\n",
            "\n",
            "pandas.util.testing is deprecated. Use the functions in the public API at pandas.testing instead.\n",
            "\n"
          ]
        }
      ]
    },
    {
      "cell_type": "code",
      "metadata": {
        "id": "D9YpF562Ptc2"
      },
      "source": [
        "# Show a graph of the result\n",
        "#graphing.scatter_2D(dataset,label_x='age',label_y='core_temperature',trendline=lambda x: model.params[1] * x + model.params[0])"
      ],
      "execution_count": 34,
      "outputs": []
    },
    {
      "cell_type": "markdown",
      "metadata": {
        "id": "iR42vOfKS1tH"
      },
      "source": [
        "![1_GSAcN9G7stUJQbuOhu0HEg.png](data:image/png;base64,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)"
      ]
    },
    {
      "cell_type": "code",
      "metadata": {
        "colab": {
          "base_uri": "https://localhost:8080/"
        },
        "id": "MZWeKeZeP7It",
        "outputId": "d6accbf1-04ce-41f8-90f0-9bc4ec3726f4"
      },
      "source": [
        "print(\"Ordenada / 'Constant' :\", model.params[0], \"  --  Pendiente / 'Slope' :\", model.params[1])\n"
      ],
      "execution_count": 36,
      "outputs": [
        {
          "output_type": "stream",
          "name": "stdout",
          "text": [
            "Ordenada / 'Constant' : 38.087867548892085   --  Pendiente / 'Slope' : 0.15333957754731858\n"
          ]
        }
      ]
    },
    {
      "cell_type": "code",
      "metadata": {
        "colab": {
          "base_uri": "https://localhost:8080/"
        },
        "id": "PcjZddI8QY6Q",
        "outputId": "3b619baa-fecd-4663-b8ee-bb8090285691"
      },
      "source": [
        "\n",
        "def estimate_temperature(age):\n",
        "    # Model param[0] is the intercepts and param[1] is the slope\n",
        "    return age * model.params[1] + model.params[0]\n",
        "\n",
        "print(\"Estimate temperature from age\")\n",
        "print(estimate_temperature(age=0))\n",
        "\n"
      ],
      "execution_count": 13,
      "outputs": [
        {
          "output_type": "stream",
          "name": "stdout",
          "text": [
            "Estimate temperature from age\n",
            "38.087867548892085\n"
          ]
        }
      ]
    },
    {
      "cell_type": "code",
      "metadata": {
        "colab": {
          "base_uri": "https://localhost:8080/"
        },
        "id": "KH-aYJ65QgIO",
        "outputId": "88c33836-c8d2-480a-9e03-b0fbdebc7c5e"
      },
      "source": [
        "\n",
        "estimate_temperature(40)\n"
      ],
      "execution_count": 15,
      "outputs": [
        {
          "output_type": "execute_result",
          "data": {
            "text/plain": [
              "44.22145065078483"
            ]
          },
          "metadata": {},
          "execution_count": 15
        }
      ]
    },
    {
      "cell_type": "code",
      "metadata": {
        "id": "rSag3O8dQiuL"
      },
      "source": [
        ""
      ],
      "execution_count": null,
      "outputs": []
    }
  ]
}