{
  "nbformat": 4,
  "nbformat_minor": 0,
  "metadata": {
    "colab": {
      "name": "random_forest_classification.ipynb",
      "provenance": [],
      "authorship_tag": "ABX9TyM/tYVuTp4YvTJ+E3lHxvO8"
    },
    "kernelspec": {
      "name": "python3",
      "display_name": "Python 3"
    },
    "language_info": {
      "name": "python"
    }
  },
  "cells": [
    {
      "cell_type": "markdown",
      "metadata": {
        "id": "TUDxJJZo7adS"
      },
      "source": [
        "# Random Forest"
      ]
    },
    {
      "cell_type": "markdown",
      "metadata": {
        "id": "jnTX1X-B7dfU"
      },
      "source": [
        "A random forest is a collection of decision trees, which are used together to estimate which label a sample should be assigned.\n",
        "Random forests are built on the idea that while a single decision tree is highly biased, or overfit, if we train several decision trees, they'll be biased in different ways. This requires that each tree is trained independently, and each on a slightly different training set.\n",
        "\n",
        "The performance of random forests is often impressive and so comparisons are often best made against neural networks, which are another popular and high-performance model type. Unlike neural networks, random forest models are easy to train: modern frameworks provide helpful methods that let you do so in only a few lines of code. Random forests are also fast to train and don't need large datasets to perform well.\n",
        "\n",
        "Like several models, random forests have various architectural options. The easiest to consider is the size of the forest – how many trees are involved, along with the size of these trees. The ability for a random forest to make good predictions isn't infinite. At some point, increasing the size and number of trees gives no further improvement due to the limited variety of training data that we've.\n"
      ]
    },
    {
      "cell_type": "code",
      "metadata": {
        "colab": {
          "base_uri": "https://localhost:8080/"
        },
        "id": "xWBvHW6L7cQ1",
        "outputId": "f80dc67f-6667-47b6-a6fb-27a2197a0e02"
      },
      "source": [
        "import pandas\n",
        "!wget https://raw.githubusercontent.com/MicrosoftDocs/mslearn-introduction-to-machine-learning/main/graphing.py\n",
        "!wget https://raw.githubusercontent.com/MicrosoftDocs/mslearn-introduction-to-machine-learning/main/Data/san_fran_crime.csv\n",
        "import numpy as np\n",
        "from sklearn.model_selection import train_test_split\n"
      ],
      "execution_count": 1,
      "outputs": [
        {
          "output_type": "stream",
          "name": "stdout",
          "text": [
            "--2021-12-06 22:47:42--  https://raw.githubusercontent.com/MicrosoftDocs/mslearn-introduction-to-machine-learning/main/graphing.py\n",
            "Resolving raw.githubusercontent.com (raw.githubusercontent.com)... 185.199.108.133, 185.199.109.133, 185.199.110.133, ...\n",
            "Connecting to raw.githubusercontent.com (raw.githubusercontent.com)|185.199.108.133|:443... connected.\n",
            "HTTP request sent, awaiting response... 200 OK\n",
            "Length: 21511 (21K) [text/plain]\n",
            "Saving to: ‘graphing.py’\n",
            "\n",
            "\rgraphing.py           0%[                    ]       0  --.-KB/s               \rgraphing.py         100%[===================>]  21.01K  --.-KB/s    in 0.001s  \n",
            "\n",
            "2021-12-06 22:47:42 (17.1 MB/s) - ‘graphing.py’ saved [21511/21511]\n",
            "\n",
            "--2021-12-06 22:47:42--  https://raw.githubusercontent.com/MicrosoftDocs/mslearn-introduction-to-machine-learning/main/Data/san_fran_crime.csv\n",
            "Resolving raw.githubusercontent.com (raw.githubusercontent.com)... 185.199.108.133, 185.199.109.133, 185.199.110.133, ...\n",
            "Connecting to raw.githubusercontent.com (raw.githubusercontent.com)|185.199.108.133|:443... connected.\n",
            "HTTP request sent, awaiting response... 200 OK\n",
            "Length: 11715606 (11M) [text/plain]\n",
            "Saving to: ‘san_fran_crime.csv’\n",
            "\n",
            "san_fran_crime.csv  100%[===================>]  11.17M  --.-KB/s    in 0.1s    \n",
            "\n",
            "2021-12-06 22:47:42 (102 MB/s) - ‘san_fran_crime.csv’ saved [11715606/11715606]\n",
            "\n"
          ]
        }
      ]
    },
    {
      "cell_type": "code",
      "metadata": {
        "id": "09Bc5-Zo7mzj"
      },
      "source": [
        "# Import the data from the .csv file\n",
        "dataset = pandas.read_csv('san_fran_crime.csv', delimiter=\"\\t\")\n"
      ],
      "execution_count": 2,
      "outputs": []
    },
    {
      "cell_type": "code",
      "metadata": {
        "id": "BpZ9z2Ut7qP-"
      },
      "source": [
        "# Remember to one-hot encode our crime and PdDistrict variables \n",
        "categorical_features = [\"Category\", \"PdDistrict\"]\n",
        "dataset = pandas.get_dummies(dataset, columns=categorical_features, drop_first=False)\n"
      ],
      "execution_count": 3,
      "outputs": []
    },
    {
      "cell_type": "code",
      "metadata": {
        "id": "JnUo-qL07tHn"
      },
      "source": [
        "# Split the dataset in an 90/10 train/test ratio. \n",
        "# Recall that our dataset is very large so we can afford to do this\n",
        "train, test = train_test_split(dataset, test_size=0.1, random_state=2, shuffle=True)\n"
      ],
      "execution_count": 5,
      "outputs": []
    },
    {
      "cell_type": "code",
      "metadata": {
        "colab": {
          "base_uri": "https://localhost:8080/"
        },
        "id": "SyyS90kd7v_M",
        "outputId": "c2b091e8-b3d4-4758-dbda-4960014a8e1c"
      },
      "source": [
        "print(dataset.head())\n",
        "print(\"train shape:\", train.shape)\n",
        "print(\"test shape:\", test.shape)\n"
      ],
      "execution_count": 6,
      "outputs": [
        {
          "output_type": "stream",
          "name": "stdout",
          "text": [
            "   DayOfWeek  Resolution  ...  PdDistrict_TARAVAL  PdDistrict_TENDERLOIN\n",
            "0          5        True  ...                   0                      0\n",
            "1          5        True  ...                   0                      0\n",
            "2          1        True  ...                   0                      0\n",
            "3          2       False  ...                   0                      1\n",
            "4          5       False  ...                   0                      0\n",
            "\n",
            "[5 rows x 54 columns]\n",
            "train shape: (135387, 54)\n",
            "test shape: (15044, 54)\n"
          ]
        }
      ]
    },
    {
      "cell_type": "code",
      "metadata": {
        "id": "9moksqSd70Tm"
      },
      "source": [
        "from sklearn.metrics import balanced_accuracy_score\n"
      ],
      "execution_count": 7,
      "outputs": []
    },
    {
      "cell_type": "code",
      "metadata": {
        "colab": {
          "base_uri": "https://localhost:8080/"
        },
        "id": "m3pYXtRd73eu",
        "outputId": "c098673e-339b-4bec-b942-5b9be7226883"
      },
      "source": [
        "features = [c for c in dataset.columns if c != \"Resolution\"]\n",
        "\n",
        "def fit_and_test_model(model):\n",
        "    '''\n",
        "    Trains a model and tests it against both train and test sets\n",
        "    '''  \n",
        "    global features\n",
        "\n",
        "    # Train the model\n",
        "    model.fit(train[features], train.Resolution)\n",
        "\n",
        "    # Assess its performance\n",
        "    # -- Train\n",
        "    predictions = model.predict(train[features])\n",
        "    train_accuracy = balanced_accuracy_score(train.Resolution, predictions)\n",
        "\n",
        "    # -- Test\n",
        "    predictions = model.predict(test[features])\n",
        "    test_accuracy = balanced_accuracy_score(test.Resolution, predictions)\n",
        "\n",
        "    return train_accuracy, test_accuracy\n",
        "\n",
        "\n",
        "print(\"OK\")"
      ],
      "execution_count": 9,
      "outputs": [
        {
          "output_type": "stream",
          "name": "stdout",
          "text": [
            "OK\n"
          ]
        }
      ]
    },
    {
      "cell_type": "markdown",
      "metadata": {
        "id": "APOtkPZ78EcU"
      },
      "source": [
        "### Decision Tree"
      ]
    },
    {
      "cell_type": "code",
      "metadata": {
        "colab": {
          "base_uri": "https://localhost:8080/"
        },
        "id": "5s_LxsUM77rr",
        "outputId": "72c85b63-4993-4ffe-832e-0d3675779e81"
      },
      "source": [
        "import sklearn.tree\n",
        "# re-fit our last decision tree to print out its performance\n",
        "model = sklearn.tree.DecisionTreeClassifier(random_state=1, max_depth=10) \n",
        "\n",
        "dt_train_accuracy, dt_test_accuracy = fit_and_test_model(model)\n",
        "\n",
        "print(\"Decision Tree Performance:\")\n",
        "print(\"Train accuracy\", dt_train_accuracy)\n",
        "print(\"Test accuracy\", dt_test_accuracy)\n"
      ],
      "execution_count": 10,
      "outputs": [
        {
          "output_type": "stream",
          "name": "stdout",
          "text": [
            "Decision Tree Performance:\n",
            "Train accuracy 0.7742407145595661\n",
            "Test accuracy 0.7597105242913844\n"
          ]
        }
      ]
    },
    {
      "cell_type": "markdown",
      "metadata": {
        "id": "xU_FufSk8Kp1"
      },
      "source": [
        "### Random Forest"
      ]
    },
    {
      "cell_type": "code",
      "metadata": {
        "colab": {
          "base_uri": "https://localhost:8080/"
        },
        "id": "XWYROtyv8GQJ",
        "outputId": "136c4780-7771-495a-8b96-3e61378693b8"
      },
      "source": [
        "from sklearn.ensemble import RandomForestClassifier\n",
        "\n",
        "# Create a random forest model with two trees\n",
        "random_forest = RandomForestClassifier( n_estimators=2,\n",
        "                                        random_state=2,\n",
        "                                        verbose=False)\n",
        "\n",
        "# Train and test the model\n",
        "train_accuracy, test_accuracy = fit_and_test_model(random_forest)\n",
        "print(\"Random Forest Performance:\")\n",
        "print(\"Train accuracy\", train_accuracy)\n",
        "print(\"Test accuracy\", test_accuracy)\n"
      ],
      "execution_count": 11,
      "outputs": [
        {
          "output_type": "stream",
          "name": "stdout",
          "text": [
            "Random Forest Performance:\n",
            "Train accuracy 0.8842998107846062\n",
            "Test accuracy 0.734378540999183\n"
          ]
        }
      ]
    },
    {
      "cell_type": "code",
      "metadata": {
        "colab": {
          "base_uri": "https://localhost:8080/"
        },
        "id": "fTCIc8Ak8OXu",
        "outputId": "44a8cd48-f1eb-4c85-beba-34381e5844c6"
      },
      "source": [
        "# n_estimators states how many trees to put in the model\n",
        "# We will make one model for every entry in this list and see how well each model performs \n",
        "n_estimators = [2, 5, 10, 20, 50]\n",
        "\n",
        "# Train our models and report their performance\n",
        "train_accuracies = []\n",
        "test_accuracies = []\n",
        "\n",
        "for n_estimator in n_estimators:\n",
        "    print(\"Preparing a model with\", n_estimator, \"trees...\")\n",
        "\n",
        "    # Prepare the model \n",
        "    rf = RandomForestClassifier(n_estimators=n_estimator, \n",
        "                                random_state=2, \n",
        "                                verbose=False)\n",
        "    \n",
        "    # Train and test the result\n",
        "    train_accuracy, test_accuracy = fit_and_test_model(rf)\n",
        "\n",
        "    # Save the results\n",
        "    test_accuracies.append(test_accuracy)\n",
        "    train_accuracies.append(train_accuracy)\n",
        "\n",
        "print(\"test accuracies: \", test_accuracies)\n",
        "print(\"train accuracies: \", train_accuracies)"
      ],
      "execution_count": 14,
      "outputs": [
        {
          "output_type": "stream",
          "name": "stdout",
          "text": [
            "Preparing a model with 2 trees...\n",
            "Preparing a model with 5 trees...\n",
            "Preparing a model with 10 trees...\n",
            "Preparing a model with 20 trees...\n",
            "Preparing a model with 50 trees...\n",
            "[0.734378540999183, 0.7998956455629179, 0.8000019838258419, 0.8107573519372882, 0.8150166433458843]\n",
            "[0.8842998107846062, 0.9716768193935338, 0.9797076760383495, 0.9929211742941426, 0.9990978388259448]\n"
          ]
        }
      ]
    },
    {
      "cell_type": "markdown",
      "metadata": {
        "id": "-u8irbVK9g_g"
      },
      "source": [
        "   If we let our model split and create too many nodes, it can become increasingly complex and start to overfit.\n",
        "\n",
        "One way to limit that complexity is to tell the model that each node needs to have at least a certain number of samples, otherwise it can't split into subnodes.\n",
        "\n",
        "In other words, we can set the model's min_samples_split parameter to the least number of samples required so that a node can be split."
      ]
    },
    {
      "cell_type": "code",
      "metadata": {
        "colab": {
          "base_uri": "https://localhost:8080/"
        },
        "id": "6VYqJOaX8WzJ",
        "outputId": "c256d093-5726-49dd-c479-eb0ae793871b"
      },
      "source": [
        "\n",
        "# Shrink the training set temporarily to explore this\n",
        "# setting with a more normal sample size\n",
        "full_trainset = train\n",
        "train = full_trainset[:1000] # limit to 1000 samples\n",
        "\n",
        "min_samples_split = [2, 10, 20, 50, 100, 500]\n",
        "\n",
        "# Train our models and report their performance\n",
        "train_accuracies = []\n",
        "test_accuracies = []\n",
        "\n",
        "for min_samples in min_samples_split:\n",
        "    print(\"Preparing a model with min_samples_split = \", min_samples)\n",
        "\n",
        "    # Prepare the model \n",
        "    rf = RandomForestClassifier(n_estimators=20,\n",
        "                                min_samples_split=min_samples,\n",
        "                                random_state=2, \n",
        "                                verbose=False)\n",
        "    \n",
        "    # Train and test the result\n",
        "    train_accuracy, test_accuracy = fit_and_test_model(rf)\n",
        "\n",
        "    # Save the results\n",
        "    test_accuracies.append(test_accuracy)\n",
        "    train_accuracies.append(train_accuracy)\n",
        "\n",
        "print(\"test accuracies: \", test_accuracies)\n",
        "print(\"train accuracies: \", train_accuracies)"
      ],
      "execution_count": 15,
      "outputs": [
        {
          "output_type": "stream",
          "name": "stdout",
          "text": [
            "Preparing a model with min_samples_split =  2\n",
            "Preparing a model with min_samples_split =  10\n",
            "Preparing a model with min_samples_split =  20\n",
            "Preparing a model with min_samples_split =  50\n",
            "Preparing a model with min_samples_split =  100\n",
            "Preparing a model with min_samples_split =  500\n",
            "test accuracies:  [0.6982512531888485, 0.6979693593334069, 0.6992717539931208, 0.6971769551859806, 0.6892389229748863, 0.5]\n",
            "train accuracies:  [0.9963503649635037, 0.8541855180873097, 0.8000945084554906, 0.7592246285013372, 0.7284088395568157, 0.5]\n"
          ]
        }
      ]
    },
    {
      "cell_type": "code",
      "metadata": {
        "colab": {
          "base_uri": "https://localhost:8080/",
          "height": 129
        },
        "id": "4YqxDheD9qgH",
        "outputId": "fcc8035a-d207-453e-b5b8-0163703f03d8"
      },
      "source": [
        "# Rol back the trainset to the full set\n",
        "train = full_trainset\n",
        "\n",
        "\n",
        "# Prepare the model \n",
        "rf = RandomForestClassifier(n_estimators=200,\n",
        "                            max_depth=128,\n",
        "                            max_features=25,\n",
        "                            min_samples_split=2,\n",
        "                            random_state=2, \n",
        "                            verbose=False)\n",
        "\n",
        "# Train and test the result\n",
        "print(\"Training model. This may take 1 - 2 minutes\")\n",
        "train_accuracy, test_accuracy = fit_and_test_model(rf)\n",
        "\n",
        "# Print out results, compared to the decision tree\n",
        "data = {\"Model\": [\"Decision tree\",\"Final random forest\"],\n",
        "        \"Train sensitivity\": [dt_train_accuracy, train_accuracy],\n",
        "        \"Test sensitivity\": [dt_test_accuracy, test_accuracy]\n",
        "        }\n",
        "\n",
        "pandas.DataFrame(data, columns = [\"Model\", \"Train sensitivity\", \"Test sensitivity\"])"
      ],
      "execution_count": 16,
      "outputs": [
        {
          "output_type": "stream",
          "name": "stdout",
          "text": [
            "Training model. This may take 1 - 2 minutes\n"
          ]
        },
        {
          "output_type": "execute_result",
          "data": {
            "text/html": [
              "<div>\n",
              "<style scoped>\n",
              "    .dataframe tbody tr th:only-of-type {\n",
              "        vertical-align: middle;\n",
              "    }\n",
              "\n",
              "    .dataframe tbody tr th {\n",
              "        vertical-align: top;\n",
              "    }\n",
              "\n",
              "    .dataframe thead th {\n",
              "        text-align: right;\n",
              "    }\n",
              "</style>\n",
              "<table border=\"1\" class=\"dataframe\">\n",
              "  <thead>\n",
              "    <tr style=\"text-align: right;\">\n",
              "      <th></th>\n",
              "      <th>Model</th>\n",
              "      <th>Train sensitivity</th>\n",
              "      <th>Test sensitivity</th>\n",
              "    </tr>\n",
              "  </thead>\n",
              "  <tbody>\n",
              "    <tr>\n",
              "      <th>0</th>\n",
              "      <td>Decision tree</td>\n",
              "      <td>0.774241</td>\n",
              "      <td>0.759711</td>\n",
              "    </tr>\n",
              "    <tr>\n",
              "      <th>1</th>\n",
              "      <td>Final random forest</td>\n",
              "      <td>0.999657</td>\n",
              "      <td>0.816087</td>\n",
              "    </tr>\n",
              "  </tbody>\n",
              "</table>\n",
              "</div>"
            ],
            "text/plain": [
              "                 Model  Train sensitivity  Test sensitivity\n",
              "0        Decision tree           0.774241          0.759711\n",
              "1  Final random forest           0.999657          0.816087"
            ]
          },
          "metadata": {},
          "execution_count": 16
        }
      ]
    },
    {
      "cell_type": "code",
      "metadata": {
        "id": "THYRWVO79yXs"
      },
      "source": [
        ""
      ],
      "execution_count": null,
      "outputs": []
    }
  ]
}